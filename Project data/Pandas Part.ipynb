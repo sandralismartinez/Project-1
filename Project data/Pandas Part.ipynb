{
 "cells": [
  {
   "cell_type": "code",
   "execution_count": 2,
   "metadata": {},
   "outputs": [],
   "source": [
    "# Dependencies to import\n",
    "import pandas as pd\n",
    "import scipy.stats as sts\n",
    "\n",
    "# Cvs files to locate\n",
    "california_state = \"/Users/azpunit/Desktop/Project-1/Project data/csv files/California case_demographics_age.csv\"\n",
    "connecticut_state = \"/Users/azpunit/Desktop/Project-1/Project data/csv files/Conneticut COVID-19_Cases_and_Deaths_by_Age_Group.csv\"\n",
    "florida_state = \"/Users/azpunit/Desktop/Project-1/Project data/csv files/COVID-19 in Florida- What Is the Death Rate by Age Group.csv\"\n",
    "\n",
    "\n"
   ]
  },
  {
   "cell_type": "code",
   "execution_count": null,
   "metadata": {},
   "outputs": [],
   "source": []
  }
 ],
 "metadata": {
  "kernelspec": {
   "display_name": "Python 3",
   "language": "python",
   "name": "python3"
  },
  "language_info": {
   "codemirror_mode": {
    "name": "ipython",
    "version": 3
   },
   "file_extension": ".py",
   "mimetype": "text/x-python",
   "name": "python",
   "nbconvert_exporter": "python",
   "pygments_lexer": "ipython3",
   "version": "3.6.10"
  }
 },
 "nbformat": 4,
 "nbformat_minor": 4
}