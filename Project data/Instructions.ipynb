{
 "cells": [
  {
   "cell_type": "code",
   "execution_count": null,
   "metadata": {},
   "outputs": [],
   "source": [
    "# Project Title: Covid-19 Mortality and Age Groups.\n",
    "\n",
    "# Team Members: Anas Ziady, Ram Sreedhar, Sandra Martinez.\n",
    "\n",
    "# Project Description/Outline: Covid-19 mortality and older age groups seems to be related. Can we clearly see a \n",
    "# correlation between those two parameters across 10 different states within the United States? \n",
    "\n",
    "# Definition: Older age groups range from 55 years old and above. The populations are going to be divided between working \n",
    "# (55 to 64 years old) and non-working* (65 years old and above) age ranges.\n",
    "# *Some people might be working within this age group but it might not be a significant portion of the population.\n",
    "\n",
    "# Research Questions to answer:\n",
    "# H0: Covid-19 mortality is not correlated to older age groups.\n",
    "# HA: Covid-19 mortality is correlated to older age groups.\n",
    "\n",
    "\n",
    "# Elements we want to include\n",
    "\n",
    "# API\n",
    "# US Map with 10 states located add death number per state\n",
    "\n",
    "# Matplotlib\n",
    "# Box plots, scatter plots (regression line and correlation coeficient), sem, pie charts, line (time), \n",
    "# bar charts (Minimum 8 visuals)\n",
    "\n",
    "# Pandas\n",
    "# Data Manipulation and Clean up\n",
    "# Calculations: Stats Basic (Describe), Correlation, Indepedant two sample t-test, Anova (Boxplot), Chi-Square\n",
    "\n",
    "\n",
    "# How to divide it?\n",
    "# Comparison of populations within the state (include visual of death rate over time - line chart and/or bar chart)\n",
    "# Comparison of population across states\n",
    "# Comparison against the US (sample vs population)\n",
    "\n"
   ]
  }
 ],
 "metadata": {
  "kernelspec": {
   "display_name": "Python 3",
   "language": "python",
   "name": "python3"
  },
  "language_info": {
   "codemirror_mode": {
    "name": "ipython",
    "version": 3
   },
   "file_extension": ".py",
   "mimetype": "text/x-python",
   "name": "python",
   "nbconvert_exporter": "python",
   "pygments_lexer": "ipython3",
   "version": "3.6.10"
  }
 },
 "nbformat": 4,
 "nbformat_minor": 4
}
