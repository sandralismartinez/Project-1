{
 "cells": [
  {
   "cell_type": "code",
   "execution_count": 34,
   "metadata": {},
   "outputs": [
    {
     "output_type": "error",
     "ename": "FileNotFoundError",
     "evalue": "[Errno 2] File /Users/azpunit/Desktop/Project-1/CSV Files/California case_demographics_age.csv does not exist: '/Users/azpunit/Desktop/Project-1/CSV Files/California case_demographics_age.csv'",
     "traceback": [
      "\u001b[0;31m---------------------------------------------------------------------------\u001b[0m",
      "\u001b[0;31mFileNotFoundError\u001b[0m                         Traceback (most recent call last)",
      "\u001b[0;32m<ipython-input-34-6ea68e3576ab>\u001b[0m in \u001b[0;36m<module>\u001b[0;34m\u001b[0m\n\u001b[1;32m     19\u001b[0m \u001b[0;34m\u001b[0m\u001b[0m\n\u001b[1;32m     20\u001b[0m \u001b[0;31m# Csv files reader\u001b[0m\u001b[0;34m\u001b[0m\u001b[0;34m\u001b[0m\u001b[0;34m\u001b[0m\u001b[0m\n\u001b[0;32m---> 21\u001b[0;31m \u001b[0mcalifornia_state_df\u001b[0m \u001b[0;34m=\u001b[0m \u001b[0mpd\u001b[0m\u001b[0;34m.\u001b[0m\u001b[0mread_csv\u001b[0m\u001b[0;34m(\u001b[0m\u001b[0mcalifornia_state_locator\u001b[0m\u001b[0;34m)\u001b[0m\u001b[0;34m\u001b[0m\u001b[0;34m\u001b[0m\u001b[0m\n\u001b[0m\u001b[1;32m     22\u001b[0m \u001b[0mconnecticut_state_df\u001b[0m \u001b[0;34m=\u001b[0m \u001b[0mpd\u001b[0m\u001b[0;34m.\u001b[0m\u001b[0mread_csv\u001b[0m\u001b[0;34m(\u001b[0m\u001b[0mconnecticut_state_locator\u001b[0m\u001b[0;34m)\u001b[0m\u001b[0;34m\u001b[0m\u001b[0;34m\u001b[0m\u001b[0m\n\u001b[1;32m     23\u001b[0m \u001b[0mvirginia_state_df\u001b[0m \u001b[0;34m=\u001b[0m \u001b[0mpd\u001b[0m\u001b[0;34m.\u001b[0m\u001b[0mread_csv\u001b[0m\u001b[0;34m(\u001b[0m\u001b[0mvirginia_state_locator\u001b[0m\u001b[0;34m)\u001b[0m\u001b[0;34m\u001b[0m\u001b[0;34m\u001b[0m\u001b[0m\n",
      "\u001b[0;32m/Applications/anaconda3/lib/python3.7/site-packages/pandas/io/parsers.py\u001b[0m in \u001b[0;36mparser_f\u001b[0;34m(filepath_or_buffer, sep, delimiter, header, names, index_col, usecols, squeeze, prefix, mangle_dupe_cols, dtype, engine, converters, true_values, false_values, skipinitialspace, skiprows, skipfooter, nrows, na_values, keep_default_na, na_filter, verbose, skip_blank_lines, parse_dates, infer_datetime_format, keep_date_col, date_parser, dayfirst, cache_dates, iterator, chunksize, compression, thousands, decimal, lineterminator, quotechar, quoting, doublequote, escapechar, comment, encoding, dialect, error_bad_lines, warn_bad_lines, delim_whitespace, low_memory, memory_map, float_precision)\u001b[0m\n\u001b[1;32m    674\u001b[0m         )\n\u001b[1;32m    675\u001b[0m \u001b[0;34m\u001b[0m\u001b[0m\n\u001b[0;32m--> 676\u001b[0;31m         \u001b[0;32mreturn\u001b[0m \u001b[0m_read\u001b[0m\u001b[0;34m(\u001b[0m\u001b[0mfilepath_or_buffer\u001b[0m\u001b[0;34m,\u001b[0m \u001b[0mkwds\u001b[0m\u001b[0;34m)\u001b[0m\u001b[0;34m\u001b[0m\u001b[0;34m\u001b[0m\u001b[0m\n\u001b[0m\u001b[1;32m    677\u001b[0m \u001b[0;34m\u001b[0m\u001b[0m\n\u001b[1;32m    678\u001b[0m     \u001b[0mparser_f\u001b[0m\u001b[0;34m.\u001b[0m\u001b[0m__name__\u001b[0m \u001b[0;34m=\u001b[0m \u001b[0mname\u001b[0m\u001b[0;34m\u001b[0m\u001b[0;34m\u001b[0m\u001b[0m\n",
      "\u001b[0;32m/Applications/anaconda3/lib/python3.7/site-packages/pandas/io/parsers.py\u001b[0m in \u001b[0;36m_read\u001b[0;34m(filepath_or_buffer, kwds)\u001b[0m\n\u001b[1;32m    446\u001b[0m \u001b[0;34m\u001b[0m\u001b[0m\n\u001b[1;32m    447\u001b[0m     \u001b[0;31m# Create the parser.\u001b[0m\u001b[0;34m\u001b[0m\u001b[0;34m\u001b[0m\u001b[0;34m\u001b[0m\u001b[0m\n\u001b[0;32m--> 448\u001b[0;31m     \u001b[0mparser\u001b[0m \u001b[0;34m=\u001b[0m \u001b[0mTextFileReader\u001b[0m\u001b[0;34m(\u001b[0m\u001b[0mfp_or_buf\u001b[0m\u001b[0;34m,\u001b[0m \u001b[0;34m**\u001b[0m\u001b[0mkwds\u001b[0m\u001b[0;34m)\u001b[0m\u001b[0;34m\u001b[0m\u001b[0;34m\u001b[0m\u001b[0m\n\u001b[0m\u001b[1;32m    449\u001b[0m \u001b[0;34m\u001b[0m\u001b[0m\n\u001b[1;32m    450\u001b[0m     \u001b[0;32mif\u001b[0m \u001b[0mchunksize\u001b[0m \u001b[0;32mor\u001b[0m \u001b[0miterator\u001b[0m\u001b[0;34m:\u001b[0m\u001b[0;34m\u001b[0m\u001b[0;34m\u001b[0m\u001b[0m\n",
      "\u001b[0;32m/Applications/anaconda3/lib/python3.7/site-packages/pandas/io/parsers.py\u001b[0m in \u001b[0;36m__init__\u001b[0;34m(self, f, engine, **kwds)\u001b[0m\n\u001b[1;32m    878\u001b[0m             \u001b[0mself\u001b[0m\u001b[0;34m.\u001b[0m\u001b[0moptions\u001b[0m\u001b[0;34m[\u001b[0m\u001b[0;34m\"has_index_names\"\u001b[0m\u001b[0;34m]\u001b[0m \u001b[0;34m=\u001b[0m \u001b[0mkwds\u001b[0m\u001b[0;34m[\u001b[0m\u001b[0;34m\"has_index_names\"\u001b[0m\u001b[0;34m]\u001b[0m\u001b[0;34m\u001b[0m\u001b[0;34m\u001b[0m\u001b[0m\n\u001b[1;32m    879\u001b[0m \u001b[0;34m\u001b[0m\u001b[0m\n\u001b[0;32m--> 880\u001b[0;31m         \u001b[0mself\u001b[0m\u001b[0;34m.\u001b[0m\u001b[0m_make_engine\u001b[0m\u001b[0;34m(\u001b[0m\u001b[0mself\u001b[0m\u001b[0;34m.\u001b[0m\u001b[0mengine\u001b[0m\u001b[0;34m)\u001b[0m\u001b[0;34m\u001b[0m\u001b[0;34m\u001b[0m\u001b[0m\n\u001b[0m\u001b[1;32m    881\u001b[0m \u001b[0;34m\u001b[0m\u001b[0m\n\u001b[1;32m    882\u001b[0m     \u001b[0;32mdef\u001b[0m \u001b[0mclose\u001b[0m\u001b[0;34m(\u001b[0m\u001b[0mself\u001b[0m\u001b[0;34m)\u001b[0m\u001b[0;34m:\u001b[0m\u001b[0;34m\u001b[0m\u001b[0;34m\u001b[0m\u001b[0m\n",
      "\u001b[0;32m/Applications/anaconda3/lib/python3.7/site-packages/pandas/io/parsers.py\u001b[0m in \u001b[0;36m_make_engine\u001b[0;34m(self, engine)\u001b[0m\n\u001b[1;32m   1112\u001b[0m     \u001b[0;32mdef\u001b[0m \u001b[0m_make_engine\u001b[0m\u001b[0;34m(\u001b[0m\u001b[0mself\u001b[0m\u001b[0;34m,\u001b[0m \u001b[0mengine\u001b[0m\u001b[0;34m=\u001b[0m\u001b[0;34m\"c\"\u001b[0m\u001b[0;34m)\u001b[0m\u001b[0;34m:\u001b[0m\u001b[0;34m\u001b[0m\u001b[0;34m\u001b[0m\u001b[0m\n\u001b[1;32m   1113\u001b[0m         \u001b[0;32mif\u001b[0m \u001b[0mengine\u001b[0m \u001b[0;34m==\u001b[0m \u001b[0;34m\"c\"\u001b[0m\u001b[0;34m:\u001b[0m\u001b[0;34m\u001b[0m\u001b[0;34m\u001b[0m\u001b[0m\n\u001b[0;32m-> 1114\u001b[0;31m             \u001b[0mself\u001b[0m\u001b[0;34m.\u001b[0m\u001b[0m_engine\u001b[0m \u001b[0;34m=\u001b[0m \u001b[0mCParserWrapper\u001b[0m\u001b[0;34m(\u001b[0m\u001b[0mself\u001b[0m\u001b[0;34m.\u001b[0m\u001b[0mf\u001b[0m\u001b[0;34m,\u001b[0m \u001b[0;34m**\u001b[0m\u001b[0mself\u001b[0m\u001b[0;34m.\u001b[0m\u001b[0moptions\u001b[0m\u001b[0;34m)\u001b[0m\u001b[0;34m\u001b[0m\u001b[0;34m\u001b[0m\u001b[0m\n\u001b[0m\u001b[1;32m   1115\u001b[0m         \u001b[0;32melse\u001b[0m\u001b[0;34m:\u001b[0m\u001b[0;34m\u001b[0m\u001b[0;34m\u001b[0m\u001b[0m\n\u001b[1;32m   1116\u001b[0m             \u001b[0;32mif\u001b[0m \u001b[0mengine\u001b[0m \u001b[0;34m==\u001b[0m \u001b[0;34m\"python\"\u001b[0m\u001b[0;34m:\u001b[0m\u001b[0;34m\u001b[0m\u001b[0;34m\u001b[0m\u001b[0m\n",
      "\u001b[0;32m/Applications/anaconda3/lib/python3.7/site-packages/pandas/io/parsers.py\u001b[0m in \u001b[0;36m__init__\u001b[0;34m(self, src, **kwds)\u001b[0m\n\u001b[1;32m   1889\u001b[0m         \u001b[0mkwds\u001b[0m\u001b[0;34m[\u001b[0m\u001b[0;34m\"usecols\"\u001b[0m\u001b[0;34m]\u001b[0m \u001b[0;34m=\u001b[0m \u001b[0mself\u001b[0m\u001b[0;34m.\u001b[0m\u001b[0musecols\u001b[0m\u001b[0;34m\u001b[0m\u001b[0;34m\u001b[0m\u001b[0m\n\u001b[1;32m   1890\u001b[0m \u001b[0;34m\u001b[0m\u001b[0m\n\u001b[0;32m-> 1891\u001b[0;31m         \u001b[0mself\u001b[0m\u001b[0;34m.\u001b[0m\u001b[0m_reader\u001b[0m \u001b[0;34m=\u001b[0m \u001b[0mparsers\u001b[0m\u001b[0;34m.\u001b[0m\u001b[0mTextReader\u001b[0m\u001b[0;34m(\u001b[0m\u001b[0msrc\u001b[0m\u001b[0;34m,\u001b[0m \u001b[0;34m**\u001b[0m\u001b[0mkwds\u001b[0m\u001b[0;34m)\u001b[0m\u001b[0;34m\u001b[0m\u001b[0;34m\u001b[0m\u001b[0m\n\u001b[0m\u001b[1;32m   1892\u001b[0m         \u001b[0mself\u001b[0m\u001b[0;34m.\u001b[0m\u001b[0munnamed_cols\u001b[0m \u001b[0;34m=\u001b[0m \u001b[0mself\u001b[0m\u001b[0;34m.\u001b[0m\u001b[0m_reader\u001b[0m\u001b[0;34m.\u001b[0m\u001b[0munnamed_cols\u001b[0m\u001b[0;34m\u001b[0m\u001b[0;34m\u001b[0m\u001b[0m\n\u001b[1;32m   1893\u001b[0m \u001b[0;34m\u001b[0m\u001b[0m\n",
      "\u001b[0;32mpandas/_libs/parsers.pyx\u001b[0m in \u001b[0;36mpandas._libs.parsers.TextReader.__cinit__\u001b[0;34m()\u001b[0m\n",
      "\u001b[0;32mpandas/_libs/parsers.pyx\u001b[0m in \u001b[0;36mpandas._libs.parsers.TextReader._setup_parser_source\u001b[0;34m()\u001b[0m\n",
      "\u001b[0;31mFileNotFoundError\u001b[0m: [Errno 2] File /Users/azpunit/Desktop/Project-1/CSV Files/California case_demographics_age.csv does not exist: '/Users/azpunit/Desktop/Project-1/CSV Files/California case_demographics_age.csv'"
     ]
    }
   ],
   "source": [
    "# Dependencies to import.\n",
    "import numpy as np\n",
    "import matplotlib.pyplot as plt\n",
    "import pandas as pd\n",
    "import scipy.stats as states\n",
    "import math\n",
    "import warnings\n",
    "warnings.filterwarnings('ignore')\n",
    "\n",
    "# Csv files to locate for the analysis of death counts within five states that we chose.\n",
    "california_state_locator = \"/Users/azpunit/Desktop/Project-1/CSV Files/California case_demographics_age.csv\"\n",
    "connecticut_state_locator =  \"/Users/azpunit/Desktop/Project-1/CSV Files/Conneticut COVID-19_Cases_and_Deaths_by_Age_Group.csv\"\n",
    "virginia_state_locator =  \"/Users/azpunit/Desktop/Project-1/CSV Files/Virginia COVID-19-PublicUseDataset-Cases_By-Age-Group.csv\"\n",
    "florida_state_locator = \"/Users/azpunit/Desktop/Project-1/CSV Files/COVID-19 in Florida- What Is the Death Rate by Age Group.csv\"\n",
    "georgia_state_locator = \"/Users/azpunit/Desktop/Project-1/CSV Files/COVID-19 in Georgia- What Is the Death Rate by Age Group.csv\"\n",
    "\n",
    "# Csv file to locate for comparing the five states death count with the overall United States death count.\n",
    "states_comparison_locator = \"/Users/azpunit/Desktop/Project-1/CSV Files/All States Provisional_COVID-19_Death_Counts_by_Sex__Age__and_State.csv\"\n",
    "\n",
    "# Csv files reader\n",
    "california_state_df = pd.read_csv(california_state_locator)\n",
    "connecticut_state_df = pd.read_csv(connecticut_state_locator)\n",
    "virginia_state_df = pd.read_csv(virginia_state_locator)\n",
    "florida_state_df = pd.read_csv(florida_state_locator)\n",
    "georgia_state_df = pd.read_csv(georgia_state_locator)\n",
    "states_comparison_df = pd.read_csv(states_comparison_locator)"
   ]
  },
  {
   "cell_type": "code",
   "execution_count": 3,
   "metadata": {},
   "outputs": [
    {
     "output_type": "error",
     "ename": "NameError",
     "evalue": "name 'california_state_df' is not defined",
     "traceback": [
      "\u001b[0;31m---------------------------------------------------------------------------\u001b[0m",
      "\u001b[0;31mNameError\u001b[0m                                 Traceback (most recent call last)",
      "\u001b[0;32m<ipython-input-3-c979dda03a5e>\u001b[0m in \u001b[0;36m<module>\u001b[0;34m\u001b[0m\n\u001b[1;32m      2\u001b[0m \u001b[0mcolumns\u001b[0m \u001b[0;34m=\u001b[0m \u001b[0;34m[\u001b[0m\u001b[0;34m\"Age Groups\"\u001b[0m\u001b[0;34m,\u001b[0m \u001b[0;34m\"COVID-19 Deaths\"\u001b[0m\u001b[0;34m]\u001b[0m\u001b[0;34m\u001b[0m\u001b[0;34m\u001b[0m\u001b[0m\n\u001b[1;32m      3\u001b[0m \u001b[0;34m\u001b[0m\u001b[0m\n\u001b[0;32m----> 4\u001b[0;31m \u001b[0mraw_california_state_df\u001b[0m \u001b[0;34m=\u001b[0m \u001b[0mcalifornia_state_df\u001b[0m\u001b[0;34m[\u001b[0m\u001b[0;34m[\u001b[0m\u001b[0;34m\"age_group\"\u001b[0m\u001b[0;34m,\u001b[0m \u001b[0;34m\"deaths\"\u001b[0m\u001b[0;34m]\u001b[0m\u001b[0;34m]\u001b[0m\u001b[0;34m\u001b[0m\u001b[0;34m\u001b[0m\u001b[0m\n\u001b[0m\u001b[1;32m      5\u001b[0m \u001b[0mraw_california_state_df\u001b[0m \u001b[0;34m=\u001b[0m \u001b[0mraw_california_state_df\u001b[0m\u001b[0;34m.\u001b[0m\u001b[0mdropna\u001b[0m\u001b[0;34m(\u001b[0m\u001b[0;34m)\u001b[0m\u001b[0;34m\u001b[0m\u001b[0;34m\u001b[0m\u001b[0m\n\u001b[1;32m      6\u001b[0m \u001b[0mraw_california_state_df\u001b[0m \u001b[0;34m=\u001b[0m \u001b[0mraw_california_state_df\u001b[0m\u001b[0;34m.\u001b[0m\u001b[0mrename\u001b[0m\u001b[0;34m(\u001b[0m\u001b[0mcolumns\u001b[0m\u001b[0;34m=\u001b[0m\u001b[0;34m{\u001b[0m\u001b[0;34m\"age_group\"\u001b[0m\u001b[0;34m:\u001b[0m \u001b[0;34m\"Age Groups\"\u001b[0m\u001b[0;34m,\u001b[0m \u001b[0;34m\"deaths\"\u001b[0m\u001b[0;34m:\u001b[0m \u001b[0;34m\"COVID-19 Deaths\"\u001b[0m\u001b[0;34m}\u001b[0m\u001b[0;34m)\u001b[0m\u001b[0;34m\u001b[0m\u001b[0;34m\u001b[0m\u001b[0m\n",
      "\u001b[0;31mNameError\u001b[0m: name 'california_state_df' is not defined"
     ]
    }
   ],
   "source": [
    "# Cleaning the California state data.\n",
    "columns = [\"Age Groups\", \"COVID-19 Deaths\"]\n",
    "\n",
    "raw_california_state_df = california_state_df[[\"age_group\", \"deaths\"]]\n",
    "raw_california_state_df = raw_california_state_df.dropna()\n",
    "raw_california_state_df = raw_california_state_df.rename(columns={\"age_group\": \"Age Groups\", \"deaths\": \"COVID-19 Deaths\"})\n",
    "raw_california_state_df[\"Age Groups\"].replace({\"65+\": \"65 and Older\"}, inplace=True)\n",
    "raw_california_state_df.drop(raw_california_state_df[raw_california_state_df[\"Age Groups\"] == \"Unknown\"].index, inplace = True)\n",
    "raw_california_state_df.drop(raw_california_state_df[raw_california_state_df[\"Age Groups\"] == \"Missing\"].index, inplace = True)\n",
    "final_first_formatter = raw_california_state_df.loc[raw_california_state_df[\"Age Groups\"] == \"0-17\", columns]\n",
    "raw_second_formatter = raw_california_state_df.loc[raw_california_state_df[\"Age Groups\"] == \"18-49\", columns]\n",
    "raw_third_formatter = raw_california_state_df.loc[raw_california_state_df[\"Age Groups\"] == \"50-64\", columns]\n",
    "final_fourth_formatter = raw_california_state_df.loc[raw_california_state_df[\"Age Groups\"] == \"65 and Older\", columns]\n",
    "final_second_formatter = raw_second_formatter.reset_index()\n",
    "del final_second_formatter[\"index\"]\n",
    "final_third_formatter = raw_third_formatter.reset_index()\n",
    "del final_third_formatter[\"index\"]\n",
    "intermediary_second_formatter = final_second_formatter[\"COVID-19 Deaths\"] + final_third_formatter[\"COVID-19 Deaths\"]*(1/3)\n",
    "intermediary_third_formatter = final_third_formatter[\"COVID-19 Deaths\"] - final_third_formatter[\"COVID-19 Deaths\"]*(1/3)\n",
    "final_second_formatter[\"COVID-19 Deaths\"] = intermediary_second_formatter\n",
    "final_third_formatter[\"COVID-19 Deaths\"] = intermediary_third_formatter\n",
    "raw_merged_california_state_df = pd.merge(final_first_formatter, final_second_formatter, how='outer', on=[\"Age Groups\", \"COVID-19 Deaths\"])\n",
    "intermediary_merged_california_state_df = pd.merge(raw_merged_california_state_df, final_third_formatter, how='outer', on=[\"Age Groups\", \"COVID-19 Deaths\"])\n",
    "final_california_state_df = pd.merge(intermediary_merged_california_state_df, final_fourth_formatter, \n",
    "                                            how='outer', on=[\"Age Groups\",\"COVID-19 Deaths\"])\n",
    "final_california_state_df[\"Age Groups\"].replace({\"0-17\":\"Younger than 55\", \"18-49\":\"Younger than 55\", \"50-64\":\"Between 55 and 64\"}, inplace=True)"
   ]
  },
  {
   "cell_type": "code",
   "execution_count": 4,
   "metadata": {
    "scrolled": true,
    "tags": []
   },
   "outputs": [
    {
     "output_type": "error",
     "ename": "NameError",
     "evalue": "name 'final_california_state_df' is not defined",
     "traceback": [
      "\u001b[0;31m---------------------------------------------------------------------------\u001b[0m",
      "\u001b[0;31mNameError\u001b[0m                                 Traceback (most recent call last)",
      "\u001b[0;32m<ipython-input-4-c3a4bd81f789>\u001b[0m in \u001b[0;36m<module>\u001b[0;34m\u001b[0m\n\u001b[1;32m      1\u001b[0m \u001b[0;31m# Creating a new statistics table for the California state.\u001b[0m\u001b[0;34m\u001b[0m\u001b[0;34m\u001b[0m\u001b[0;34m\u001b[0m\u001b[0m\n\u001b[1;32m      2\u001b[0m \u001b[0mindex\u001b[0m \u001b[0;34m=\u001b[0m \u001b[0;34m[\u001b[0m\u001b[0;34m\"Younger than 55\"\u001b[0m\u001b[0;34m,\u001b[0m \u001b[0;34m\"Between 55 and 64\"\u001b[0m\u001b[0;34m,\u001b[0m \u001b[0;34m\"65 and Older\"\u001b[0m\u001b[0;34m]\u001b[0m\u001b[0;34m\u001b[0m\u001b[0;34m\u001b[0m\u001b[0m\n\u001b[0;32m----> 3\u001b[0;31m \u001b[0mcalifornia_state_age_group\u001b[0m \u001b[0;34m=\u001b[0m \u001b[0mfinal_california_state_df\u001b[0m\u001b[0;34m.\u001b[0m\u001b[0mgroupby\u001b[0m\u001b[0;34m(\u001b[0m\u001b[0;34m\"Age Groups\"\u001b[0m\u001b[0;34m)\u001b[0m\u001b[0;34m\u001b[0m\u001b[0;34m\u001b[0m\u001b[0m\n\u001b[0m\u001b[1;32m      4\u001b[0m \u001b[0mmean_california_state_age_group\u001b[0m \u001b[0;34m=\u001b[0m \u001b[0mcalifornia_state_age_group\u001b[0m\u001b[0;34m[\u001b[0m\u001b[0;34m\"COVID-19 Deaths\"\u001b[0m\u001b[0;34m]\u001b[0m\u001b[0;34m.\u001b[0m\u001b[0mmean\u001b[0m\u001b[0;34m(\u001b[0m\u001b[0;34m)\u001b[0m\u001b[0;34m\u001b[0m\u001b[0;34m\u001b[0m\u001b[0m\n\u001b[1;32m      5\u001b[0m \u001b[0mmedian_california_state_age_group\u001b[0m \u001b[0;34m=\u001b[0m \u001b[0mcalifornia_state_age_group\u001b[0m\u001b[0;34m[\u001b[0m\u001b[0;34m\"COVID-19 Deaths\"\u001b[0m\u001b[0;34m]\u001b[0m\u001b[0;34m.\u001b[0m\u001b[0mmedian\u001b[0m\u001b[0;34m(\u001b[0m\u001b[0;34m)\u001b[0m\u001b[0;34m\u001b[0m\u001b[0;34m\u001b[0m\u001b[0m\n",
      "\u001b[0;31mNameError\u001b[0m: name 'final_california_state_df' is not defined"
     ]
    }
   ],
   "source": [
    "# Creating a new statistics table for the California state.\n",
    "index = [\"Younger than 55\", \"Between 55 and 64\", \"65 and Older\"]\n",
    "california_state_age_group = final_california_state_df.groupby(\"Age Groups\")\n",
    "mean_california_state_age_group = california_state_age_group[\"COVID-19 Deaths\"].mean()\n",
    "median_california_state_age_group = california_state_age_group[\"COVID-19 Deaths\"].median()\n",
    "stdev_california_state_age_group = california_state_age_group[\"COVID-19 Deaths\"].std()\n",
    "var_california_state_age_group = california_state_age_group[\"COVID-19 Deaths\"].var()\n",
    "sem_california_state_age_group = california_state_age_group[\"COVID-19 Deaths\"].sem()\n",
    "sum_california_state_age_group = california_state_age_group[\"COVID-19 Deaths\"].sum()\n",
    "min_california_state_age_group = california_state_age_group[\"COVID-19 Deaths\"].min()\n",
    "max_california_state_age_group = california_state_age_group[\"COVID-19 Deaths\"].max()\n",
    "\n",
    "california_raw_summary_statistics = pd.DataFrame({\"Mean Covid-19 Deaths\": mean_california_state_age_group,\n",
    "                                                  \"Median of Covid-19 Deaths\": median_california_state_age_group,\n",
    "                                                  \"Standard Deviation of Covid-19 Deaths\": stdev_california_state_age_group,\n",
    "                                                  \"Variance of Covid-19 Deaths\": var_california_state_age_group,\n",
    "                                                  \"SEM of Covid-19 Deaths\": sem_california_state_age_group,\n",
    "                                                  \"Sum of Covid-19 Deaths\": sum_california_state_age_group,\n",
    "                                                  \"Min Covid-19 Deaths\": min_california_state_age_group,\n",
    "                                                  \"Max Covid-19 Deaths\": max_california_state_age_group},\n",
    "                                                  index=index)\n",
    "\n",
    "california_summary_statistics = california_raw_summary_statistics.style.format({\"Mean Covid-19 Deaths\": (\"{:.0f}\"),\n",
    "                                                                                \"Median of Covid-19 Deaths\": (\"{:.2f}\"),\n",
    "                                                                                \"Standard Deviation of Covid-19 Deaths\": (\"{:.2f}\"),\n",
    "                                                                                \"Variance of Covid-19 Deaths\": (\"{:.2f}\"),\n",
    "                                                                                \"SEM of Covid-19 Deaths\": (\"{:.2f}\"),\n",
    "                                                                                \"Sum of Covid-19 Deaths\": (\"{:.0f}\"),\n",
    "                                                                                \"Min Covid-19 Deaths\": (\"{:.0f}\"),\n",
    "                                                                                \"Max Covid-19 Deaths\": (\"{:.0f}\")\n",
    "                                                                               })\n",
    "\n",
    "bold_start = '\\033[1m'\n",
    "print(bold_start, \"California Summary Statistics Table\")\n",
    "california_summary_statistics"
   ]
  },
  {
   "cell_type": "code",
   "execution_count": 5,
   "metadata": {},
   "outputs": [
    {
     "output_type": "error",
     "ename": "NameError",
     "evalue": "name 'connecticut_state_df' is not defined",
     "traceback": [
      "\u001b[0;31m---------------------------------------------------------------------------\u001b[0m",
      "\u001b[0;31mNameError\u001b[0m                                 Traceback (most recent call last)",
      "\u001b[0;32m<ipython-input-5-1177ad36568b>\u001b[0m in \u001b[0;36m<module>\u001b[0;34m\u001b[0m\n\u001b[1;32m      2\u001b[0m \u001b[0mcolumns\u001b[0m \u001b[0;34m=\u001b[0m \u001b[0;34m[\u001b[0m\u001b[0;34m\"Age Groups\"\u001b[0m\u001b[0;34m,\u001b[0m \u001b[0;34m\"COVID-19 Deaths\"\u001b[0m\u001b[0;34m]\u001b[0m\u001b[0;34m\u001b[0m\u001b[0;34m\u001b[0m\u001b[0m\n\u001b[1;32m      3\u001b[0m \u001b[0;34m\u001b[0m\u001b[0m\n\u001b[0;32m----> 4\u001b[0;31m \u001b[0mraw_connecticut_state_df\u001b[0m \u001b[0;34m=\u001b[0m \u001b[0mconnecticut_state_df\u001b[0m\u001b[0;34m[\u001b[0m\u001b[0;34m[\u001b[0m\u001b[0;34m\"AgeGroups\"\u001b[0m\u001b[0;34m,\u001b[0m \u001b[0;34m\"Total deaths\"\u001b[0m\u001b[0;34m]\u001b[0m\u001b[0;34m]\u001b[0m\u001b[0;34m\u001b[0m\u001b[0;34m\u001b[0m\u001b[0m\n\u001b[0m\u001b[1;32m      5\u001b[0m \u001b[0mraw_connecticut_state_df\u001b[0m \u001b[0;34m=\u001b[0m \u001b[0mraw_connecticut_state_df\u001b[0m\u001b[0;34m.\u001b[0m\u001b[0mrename\u001b[0m\u001b[0;34m(\u001b[0m\u001b[0mcolumns\u001b[0m\u001b[0;34m=\u001b[0m\u001b[0;34m{\u001b[0m\u001b[0;34m\"AgeGroups\"\u001b[0m\u001b[0;34m:\u001b[0m \u001b[0;34m\"Age Groups\"\u001b[0m\u001b[0;34m,\u001b[0m \u001b[0;34m\"Total deaths\"\u001b[0m\u001b[0;34m:\u001b[0m \u001b[0;34m\"COVID-19 Deaths\"\u001b[0m\u001b[0;34m}\u001b[0m\u001b[0;34m)\u001b[0m\u001b[0;34m\u001b[0m\u001b[0;34m\u001b[0m\u001b[0m\n\u001b[1;32m      6\u001b[0m raw_connecticut_state_df[\"Age Groups\"].replace({\"0 - 9\":\"0-9\", \"19-Oct\": \"10-19\", \"20 -29\": \"20-29\", \"30 - 39\": \"30-39\",\n",
      "\u001b[0;31mNameError\u001b[0m: name 'connecticut_state_df' is not defined"
     ]
    }
   ],
   "source": [
    "# Cleaning the Connecticut state data.\n",
    "columns = [\"Age Groups\", \"COVID-19 Deaths\"]\n",
    "\n",
    "raw_connecticut_state_df = connecticut_state_df[[\"AgeGroups\", \"Total deaths\"]]\n",
    "raw_connecticut_state_df = raw_connecticut_state_df.rename(columns={\"AgeGroups\": \"Age Groups\", \"Total deaths\": \"COVID-19 Deaths\"})\n",
    "raw_connecticut_state_df[\"Age Groups\"].replace({\"0 - 9\":\"0-9\", \"19-Oct\": \"10-19\", \"20 -29\": \"20-29\", \"30 - 39\": \"30-39\",\n",
    "                                                \"40 -49\": \"40-49\", \"50 -59\": \"50-59\", \"60 - 69\":\"60-69\", \"70 - 79\":\"70-79\"}, inplace=True)\n",
    "final_first_formatter = raw_connecticut_state_df.loc[(raw_connecticut_state_df[\"Age Groups\"] == \"0-9\") |\n",
    "                                                     (raw_connecticut_state_df[\"Age Groups\"] == \"10-19\") |\n",
    "                                                     (raw_connecticut_state_df[\"Age Groups\"] == \"20-29\") |\n",
    "                                                     (raw_connecticut_state_df[\"Age Groups\"] == \"30-39\"), columns]                  \n",
    "raw_second_formatter = raw_connecticut_state_df.loc[raw_connecticut_state_df[\"Age Groups\"] == \"40-49\", columns]\n",
    "raw_third_formatter = raw_connecticut_state_df.loc[raw_connecticut_state_df[\"Age Groups\"] == \"50-59\", columns]\n",
    "raw_fourth_formatter = raw_connecticut_state_df.loc[raw_connecticut_state_df[\"Age Groups\"] == \"60-69\", columns]\n",
    "final_fifth_formatter = raw_connecticut_state_df.loc[(raw_connecticut_state_df[\"Age Groups\"] == \"70-79\") |\n",
    "                                                     (raw_connecticut_state_df[\"Age Groups\"] == \"80 and older\"), columns]\n",
    "final_second_formatter = raw_second_formatter.reset_index()\n",
    "del final_second_formatter[\"index\"]\n",
    "final_third_formatter = raw_third_formatter.reset_index()\n",
    "del final_third_formatter[\"index\"]\n",
    "final_fourth_formatter = raw_fourth_formatter.reset_index()\n",
    "del final_fourth_formatter[\"index\"]\n",
    "intermediary_second_formatter = final_second_formatter[\"COVID-19 Deaths\"] + final_third_formatter[\"COVID-19 Deaths\"]*(1/2)\n",
    "intermediary_third_formatter = final_third_formatter[\"COVID-19 Deaths\"]*(1/2) + final_fourth_formatter[\"COVID-19 Deaths\"]*(1/2)\n",
    "intermediary_fourth_formatter = final_fourth_formatter[\"COVID-19 Deaths\"]*(1/2)\n",
    "final_second_formatter[\"COVID-19 Deaths\"] = intermediary_second_formatter\n",
    "final_third_formatter[\"COVID-19 Deaths\"] = intermediary_third_formatter\n",
    "final_fourth_formatter[\"COVID-19 Deaths\"] = intermediary_fourth_formatter\n",
    "raw_merged_connecticut_state_df = pd.merge(final_first_formatter, final_second_formatter, how='outer', on=[\"Age Groups\", \"COVID-19 Deaths\"])\n",
    "intermediary_merged_connecticut_state_df = pd.merge(raw_merged_connecticut_state_df, final_third_formatter, \n",
    "                                                    how='outer', on=[\"Age Groups\", \"COVID-19 Deaths\"])\n",
    "final_merged_connecticut_state_df = pd.merge(intermediary_merged_connecticut_state_df, final_fourth_formatter, \n",
    "                                             how='outer', on=[\"Age Groups\", \"COVID-19 Deaths\"])\n",
    "final_connecticut_state_df = pd.merge(final_merged_connecticut_state_df, final_fifth_formatter, \n",
    "                                      how='outer', on=[\"Age Groups\",\"COVID-19 Deaths\"])\n",
    "final_connecticut_state_df[\"Age Groups\"].replace({\"0-9\": \"Younger than 55\", \"10-19\": \"Younger than 55\", \"20-29\": \"Younger than 55\", \n",
    "                                                  \"30-39\": \"Younger than 55\", \"40-49\": \"Younger than 55\", \"50-59\": \"Between 55 and 64\",\n",
    "                                                  \"60-69\": \"65 and Older\", \"70-79\": \"65 and Older\", \"80 and older\": \"65 and Older\"}, inplace=True)"
   ]
  },
  {
   "cell_type": "code",
   "execution_count": 6,
   "metadata": {
    "tags": []
   },
   "outputs": [
    {
     "output_type": "error",
     "ename": "NameError",
     "evalue": "name 'final_connecticut_state_df' is not defined",
     "traceback": [
      "\u001b[0;31m---------------------------------------------------------------------------\u001b[0m",
      "\u001b[0;31mNameError\u001b[0m                                 Traceback (most recent call last)",
      "\u001b[0;32m<ipython-input-6-7c23a8ede0fe>\u001b[0m in \u001b[0;36m<module>\u001b[0;34m\u001b[0m\n\u001b[1;32m      1\u001b[0m \u001b[0;31m# Creating a new statistics table for the Connecticut state.\u001b[0m\u001b[0;34m\u001b[0m\u001b[0;34m\u001b[0m\u001b[0;34m\u001b[0m\u001b[0m\n\u001b[1;32m      2\u001b[0m \u001b[0mindex\u001b[0m \u001b[0;34m=\u001b[0m \u001b[0;34m[\u001b[0m\u001b[0;34m\"Younger than 55\"\u001b[0m\u001b[0;34m,\u001b[0m \u001b[0;34m\"Between 55 and 64\"\u001b[0m\u001b[0;34m,\u001b[0m \u001b[0;34m\"65 and Older\"\u001b[0m\u001b[0;34m]\u001b[0m\u001b[0;34m\u001b[0m\u001b[0;34m\u001b[0m\u001b[0m\n\u001b[0;32m----> 3\u001b[0;31m \u001b[0mconnecticut_state_age_group\u001b[0m \u001b[0;34m=\u001b[0m \u001b[0mfinal_connecticut_state_df\u001b[0m\u001b[0;34m.\u001b[0m\u001b[0mgroupby\u001b[0m\u001b[0;34m(\u001b[0m\u001b[0;34m\"Age Groups\"\u001b[0m\u001b[0;34m)\u001b[0m\u001b[0;34m\u001b[0m\u001b[0;34m\u001b[0m\u001b[0m\n\u001b[0m\u001b[1;32m      4\u001b[0m \u001b[0mmean_connecticut_state_age_group\u001b[0m \u001b[0;34m=\u001b[0m \u001b[0mconnecticut_state_age_group\u001b[0m\u001b[0;34m[\u001b[0m\u001b[0;34m\"COVID-19 Deaths\"\u001b[0m\u001b[0;34m]\u001b[0m\u001b[0;34m.\u001b[0m\u001b[0mmean\u001b[0m\u001b[0;34m(\u001b[0m\u001b[0;34m)\u001b[0m\u001b[0;34m\u001b[0m\u001b[0;34m\u001b[0m\u001b[0m\n\u001b[1;32m      5\u001b[0m \u001b[0mmedian_connecticut_state_age_group\u001b[0m \u001b[0;34m=\u001b[0m \u001b[0mconnecticut_state_age_group\u001b[0m\u001b[0;34m[\u001b[0m\u001b[0;34m\"COVID-19 Deaths\"\u001b[0m\u001b[0;34m]\u001b[0m\u001b[0;34m.\u001b[0m\u001b[0mmedian\u001b[0m\u001b[0;34m(\u001b[0m\u001b[0;34m)\u001b[0m\u001b[0;34m\u001b[0m\u001b[0;34m\u001b[0m\u001b[0m\n",
      "\u001b[0;31mNameError\u001b[0m: name 'final_connecticut_state_df' is not defined"
     ]
    }
   ],
   "source": [
    "# Creating a new statistics table for the Connecticut state.\n",
    "index = [\"Younger than 55\", \"Between 55 and 64\", \"65 and Older\"]\n",
    "connecticut_state_age_group = final_connecticut_state_df.groupby(\"Age Groups\")\n",
    "mean_connecticut_state_age_group = connecticut_state_age_group[\"COVID-19 Deaths\"].mean()\n",
    "median_connecticut_state_age_group = connecticut_state_age_group[\"COVID-19 Deaths\"].median()\n",
    "stdev_connecticut_state_age_group = connecticut_state_age_group[\"COVID-19 Deaths\"].std()\n",
    "var_connecticut_state_age_group = connecticut_state_age_group[\"COVID-19 Deaths\"].var()\n",
    "sem_connecticut_state_age_group = connecticut_state_age_group[\"COVID-19 Deaths\"].sem()\n",
    "sum_connecticut_state_age_group = connecticut_state_age_group[\"COVID-19 Deaths\"].sum()\n",
    "min_connecticut_state_age_group = connecticut_state_age_group[\"COVID-19 Deaths\"].min()\n",
    "max_connecticut_state_age_group = connecticut_state_age_group[\"COVID-19 Deaths\"].max()\n",
    "\n",
    "raw_connecticut_summary_statistics = pd.DataFrame({\"Mean Covid-19 Deaths\": mean_connecticut_state_age_group,\n",
    "                                                   \"Median of Covid-19 Deaths\": median_connecticut_state_age_group,\n",
    "                                                   \"Standard Deviation of Covid-19 Deaths\": stdev_connecticut_state_age_group,\n",
    "                                                   \"Variance of Covid-19 Deaths\": var_connecticut_state_age_group,\n",
    "                                                   \"SEM of Covid-19 Deaths\": sem_connecticut_state_age_group,\n",
    "                                                   \"Sum of Covid-19 Deaths\": sum_connecticut_state_age_group,\n",
    "                                                   \"Min Covid-19 Deaths\": min_connecticut_state_age_group,\n",
    "                                                   \"Max Covid-19 Deaths\": max_connecticut_state_age_group},\n",
    "                                                   index=index)\n",
    "\n",
    "connecticut_summary_statistics = raw_connecticut_summary_statistics.style.format({\"Mean Covid-19 Deaths\": (\"{:.0f}\"),\n",
    "                                                                                  \"Median of Covid-19 Deaths\": (\"{:.2f}\"),\n",
    "                                                                                  \"Standard Deviation of Covid-19 Deaths\": (\"{:.2f}\"),\n",
    "                                                                                  \"Variance of Covid-19 Deaths\": (\"{:.2f}\"),\n",
    "                                                                                  \"SEM of Covid-19 Deaths\": (\"{:.2f}\"),\n",
    "                                                                                  \"Sum of Covid-19 Deaths\": (\"{:.0f}\"),\n",
    "                                                                                  \"Min Covid-19 Deaths\": (\"{:.0f}\"),\n",
    "                                                                                  \"Max Covid-19 Deaths\": (\"{:.0f}\")\n",
    "                                                                                 })\n",
    "\n",
    "bold_start = '\\033[1m'\n",
    "print(bold_start, \"Connecticut Summary Statistics Table\")\n",
    "connecticut_summary_statistics"
   ]
  },
  {
   "cell_type": "code",
   "execution_count": 7,
   "metadata": {},
   "outputs": [
    {
     "output_type": "error",
     "ename": "NameError",
     "evalue": "name 'virginia_state_df' is not defined",
     "traceback": [
      "\u001b[0;31m---------------------------------------------------------------------------\u001b[0m",
      "\u001b[0;31mNameError\u001b[0m                                 Traceback (most recent call last)",
      "\u001b[0;32m<ipython-input-7-57145efc58f2>\u001b[0m in \u001b[0;36m<module>\u001b[0;34m\u001b[0m\n\u001b[1;32m      2\u001b[0m \u001b[0mcolumns\u001b[0m \u001b[0;34m=\u001b[0m \u001b[0;34m[\u001b[0m\u001b[0;34m\"Age Groups\"\u001b[0m\u001b[0;34m,\u001b[0m \u001b[0;34m\"COVID-19 Deaths\"\u001b[0m\u001b[0;34m]\u001b[0m\u001b[0;34m\u001b[0m\u001b[0;34m\u001b[0m\u001b[0m\n\u001b[1;32m      3\u001b[0m \u001b[0;34m\u001b[0m\u001b[0m\n\u001b[0;32m----> 4\u001b[0;31m \u001b[0mraw_virginia_state_df\u001b[0m \u001b[0;34m=\u001b[0m \u001b[0mvirginia_state_df\u001b[0m\u001b[0;34m[\u001b[0m\u001b[0;34m[\u001b[0m\u001b[0;34m\"Age Group\"\u001b[0m\u001b[0;34m,\u001b[0m \u001b[0;34m\"Number of Deaths\"\u001b[0m\u001b[0;34m]\u001b[0m\u001b[0;34m]\u001b[0m\u001b[0;34m\u001b[0m\u001b[0;34m\u001b[0m\u001b[0m\n\u001b[0m\u001b[1;32m      5\u001b[0m \u001b[0mraw_virginia_state_df\u001b[0m \u001b[0;34m=\u001b[0m \u001b[0mraw_virginia_state_df\u001b[0m\u001b[0;34m.\u001b[0m\u001b[0mrename\u001b[0m\u001b[0;34m(\u001b[0m\u001b[0mcolumns\u001b[0m\u001b[0;34m=\u001b[0m\u001b[0;34m{\u001b[0m\u001b[0;34m\"Age Group\"\u001b[0m\u001b[0;34m:\u001b[0m \u001b[0;34m\"Age Groups\"\u001b[0m\u001b[0;34m,\u001b[0m \u001b[0;34m\"Number of Deaths\"\u001b[0m\u001b[0;34m:\u001b[0m \u001b[0;34m\"COVID-19 Deaths\"\u001b[0m\u001b[0;34m}\u001b[0m\u001b[0;34m)\u001b[0m\u001b[0;34m\u001b[0m\u001b[0;34m\u001b[0m\u001b[0m\n\u001b[1;32m      6\u001b[0m \u001b[0mraw_virginia_state_df\u001b[0m\u001b[0;34m.\u001b[0m\u001b[0mdrop\u001b[0m\u001b[0;34m(\u001b[0m\u001b[0mraw_virginia_state_df\u001b[0m\u001b[0;34m[\u001b[0m\u001b[0mraw_virginia_state_df\u001b[0m\u001b[0;34m[\u001b[0m\u001b[0;34m\"Age Groups\"\u001b[0m\u001b[0;34m]\u001b[0m \u001b[0;34m==\u001b[0m \u001b[0;34m\"Missing\"\u001b[0m\u001b[0;34m]\u001b[0m\u001b[0;34m.\u001b[0m\u001b[0mindex\u001b[0m\u001b[0;34m,\u001b[0m \u001b[0minplace\u001b[0m \u001b[0;34m=\u001b[0m \u001b[0;32mTrue\u001b[0m\u001b[0;34m)\u001b[0m\u001b[0;34m\u001b[0m\u001b[0;34m\u001b[0m\u001b[0m\n",
      "\u001b[0;31mNameError\u001b[0m: name 'virginia_state_df' is not defined"
     ]
    }
   ],
   "source": [
    "# Cleaning the Virginia state data.\n",
    "columns = [\"Age Groups\", \"COVID-19 Deaths\"]\n",
    "\n",
    "raw_virginia_state_df = virginia_state_df[[\"Age Group\", \"Number of Deaths\"]]\n",
    "raw_virginia_state_df = raw_virginia_state_df.rename(columns={\"Age Group\": \"Age Groups\", \"Number of Deaths\": \"COVID-19 Deaths\"})\n",
    "raw_virginia_state_df.drop(raw_virginia_state_df[raw_virginia_state_df[\"Age Groups\"] == \"Missing\"].index, inplace = True)\n",
    "final_first_formatter = raw_virginia_state_df.loc[(raw_virginia_state_df[\"Age Groups\"] == \"0-9\") |\n",
    "                                                  (raw_virginia_state_df[\"Age Groups\"] == \"10-19\") |\n",
    "                                                  (raw_virginia_state_df[\"Age Groups\"] == \"20-29\") |\n",
    "                                                  (raw_virginia_state_df[\"Age Groups\"] == \"30-39\"), columns]                  \n",
    "raw_second_formatter = raw_virginia_state_df.loc[raw_virginia_state_df[\"Age Groups\"] == \"40-49\", columns]\n",
    "raw_third_formatter = raw_virginia_state_df.loc[raw_virginia_state_df[\"Age Groups\"] == \"50-59\", columns]\n",
    "raw_fourth_formatter = raw_virginia_state_df.loc[raw_virginia_state_df[\"Age Groups\"] == \"60-69\", columns]\n",
    "final_fifth_formatter = raw_virginia_state_df.loc[(raw_virginia_state_df[\"Age Groups\"] == \"70-79\") |\n",
    "                                                  (raw_virginia_state_df[\"Age Groups\"] == \"80+\"), columns]\n",
    "final_second_formatter = raw_second_formatter.reset_index()\n",
    "del final_second_formatter[\"index\"]\n",
    "final_third_formatter = raw_third_formatter.reset_index()\n",
    "del final_third_formatter[\"index\"]\n",
    "final_fourth_formatter = raw_fourth_formatter.reset_index()\n",
    "del final_fourth_formatter[\"index\"]\n",
    "intermediary_second_formatter = final_second_formatter[\"COVID-19 Deaths\"] + final_third_formatter[\"COVID-19 Deaths\"]*(1/2)\n",
    "intermediary_third_formatter = final_third_formatter[\"COVID-19 Deaths\"]*(1/2) + final_fourth_formatter[\"COVID-19 Deaths\"]*(1/2)\n",
    "intermediary_fourth_formatter = final_fourth_formatter[\"COVID-19 Deaths\"]*(1/2)\n",
    "final_second_formatter[\"COVID-19 Deaths\"] = intermediary_second_formatter\n",
    "final_third_formatter[\"COVID-19 Deaths\"] = intermediary_third_formatter\n",
    "final_fourth_formatter[\"COVID-19 Deaths\"] = intermediary_fourth_formatter\n",
    "raw_merged_virginia_state_df = pd.merge(final_first_formatter, final_second_formatter, how='outer', on=[\"Age Groups\", \"COVID-19 Deaths\"])\n",
    "intermediary_merged_virginia_state_df = pd.merge(raw_merged_virginia_state_df, final_third_formatter, \n",
    "                                                 how='outer', on=[\"Age Groups\", \"COVID-19 Deaths\"])\n",
    "final_merged_virginia_state_df = pd.merge(intermediary_merged_virginia_state_df, final_fourth_formatter, \n",
    "                                          how='outer', on=[\"Age Groups\", \"COVID-19 Deaths\"])\n",
    "final_virginia_state_df = pd.merge(final_merged_virginia_state_df, final_fifth_formatter, \n",
    "                                   how='outer', on=[\"Age Groups\",\"COVID-19 Deaths\"])\n",
    "final_virginia_state_df[\"Age Groups\"].replace({\"0-9\": \"Younger than 55\", \"10-19\": \"Younger than 55\", \"20-29\": \"Younger than 55\", \n",
    "                                                  \"30-39\": \"Younger than 55\", \"40-49\": \"Younger than 55\", \"50-59\": \"Between 55 and 64\",\n",
    "                                                  \"60-69\": \"65 and Older\", \"70-79\": \"65 and Older\", \"80+\": \"65 and Older\"}, inplace=True)"
   ]
  },
  {
   "cell_type": "code",
   "execution_count": 8,
   "metadata": {
    "tags": []
   },
   "outputs": [
    {
     "output_type": "error",
     "ename": "NameError",
     "evalue": "name 'final_virginia_state_df' is not defined",
     "traceback": [
      "\u001b[0;31m---------------------------------------------------------------------------\u001b[0m",
      "\u001b[0;31mNameError\u001b[0m                                 Traceback (most recent call last)",
      "\u001b[0;32m<ipython-input-8-2a8a188807cf>\u001b[0m in \u001b[0;36m<module>\u001b[0;34m\u001b[0m\n\u001b[1;32m      1\u001b[0m \u001b[0;31m# Creating a new statistics table for the Virginia state.\u001b[0m\u001b[0;34m\u001b[0m\u001b[0;34m\u001b[0m\u001b[0;34m\u001b[0m\u001b[0m\n\u001b[1;32m      2\u001b[0m \u001b[0mindex\u001b[0m \u001b[0;34m=\u001b[0m \u001b[0;34m[\u001b[0m\u001b[0;34m\"Younger than 55\"\u001b[0m\u001b[0;34m,\u001b[0m \u001b[0;34m\"Between 55 and 64\"\u001b[0m\u001b[0;34m,\u001b[0m \u001b[0;34m\"65 and Older\"\u001b[0m\u001b[0;34m]\u001b[0m\u001b[0;34m\u001b[0m\u001b[0;34m\u001b[0m\u001b[0m\n\u001b[0;32m----> 3\u001b[0;31m \u001b[0mvirginia_state_age_group\u001b[0m \u001b[0;34m=\u001b[0m \u001b[0mfinal_virginia_state_df\u001b[0m\u001b[0;34m.\u001b[0m\u001b[0mgroupby\u001b[0m\u001b[0;34m(\u001b[0m\u001b[0;34m\"Age Groups\"\u001b[0m\u001b[0;34m)\u001b[0m\u001b[0;34m\u001b[0m\u001b[0;34m\u001b[0m\u001b[0m\n\u001b[0m\u001b[1;32m      4\u001b[0m \u001b[0mmean_virginia_state_age_group\u001b[0m \u001b[0;34m=\u001b[0m \u001b[0mvirginia_state_age_group\u001b[0m\u001b[0;34m[\u001b[0m\u001b[0;34m\"COVID-19 Deaths\"\u001b[0m\u001b[0;34m]\u001b[0m\u001b[0;34m.\u001b[0m\u001b[0mmean\u001b[0m\u001b[0;34m(\u001b[0m\u001b[0;34m)\u001b[0m\u001b[0;34m\u001b[0m\u001b[0;34m\u001b[0m\u001b[0m\n\u001b[1;32m      5\u001b[0m \u001b[0mmedian_virginia_state_age_group\u001b[0m \u001b[0;34m=\u001b[0m \u001b[0mvirginia_state_age_group\u001b[0m\u001b[0;34m[\u001b[0m\u001b[0;34m\"COVID-19 Deaths\"\u001b[0m\u001b[0;34m]\u001b[0m\u001b[0;34m.\u001b[0m\u001b[0mmedian\u001b[0m\u001b[0;34m(\u001b[0m\u001b[0;34m)\u001b[0m\u001b[0;34m\u001b[0m\u001b[0;34m\u001b[0m\u001b[0m\n",
      "\u001b[0;31mNameError\u001b[0m: name 'final_virginia_state_df' is not defined"
     ]
    }
   ],
   "source": [
    "# Creating a new statistics table for the Virginia state.\n",
    "index = [\"Younger than 55\", \"Between 55 and 64\", \"65 and Older\"]\n",
    "virginia_state_age_group = final_virginia_state_df.groupby(\"Age Groups\")\n",
    "mean_virginia_state_age_group = virginia_state_age_group[\"COVID-19 Deaths\"].mean()\n",
    "median_virginia_state_age_group = virginia_state_age_group[\"COVID-19 Deaths\"].median()\n",
    "stdev_virginia_state_age_group = virginia_state_age_group[\"COVID-19 Deaths\"].std()\n",
    "var_virginia_state_age_group = virginia_state_age_group[\"COVID-19 Deaths\"].var()\n",
    "sem_virginia_state_age_group = virginia_state_age_group[\"COVID-19 Deaths\"].sem()\n",
    "sum_virginia_state_age_group = virginia_state_age_group[\"COVID-19 Deaths\"].sum()\n",
    "min_virginia_state_age_group = virginia_state_age_group[\"COVID-19 Deaths\"].min()\n",
    "max_virginia_state_age_group = virginia_state_age_group[\"COVID-19 Deaths\"].max()\n",
    "\n",
    "raw_virginia_summary_statistics = pd.DataFrame({\"Mean Covid-19 Deaths\": mean_virginia_state_age_group,\n",
    "                                                \"Median of Covid-19 Deaths\": median_virginia_state_age_group,\n",
    "                                                \"Standard Deviation of Covid-19 Deaths\": stdev_virginia_state_age_group,\n",
    "                                                \"Variance of Covid-19 Deaths\": var_virginia_state_age_group,\n",
    "                                                \"SEM of Covid-19 Deaths\": sem_virginia_state_age_group,\n",
    "                                                \"Sum of Covid-19 Deaths\": sum_virginia_state_age_group,\n",
    "                                                \"Min Covid-19 Deaths\": min_virginia_state_age_group,\n",
    "                                                \"Max Covid-19 Deaths\": max_virginia_state_age_group},\n",
    "                                                index=index)\n",
    "\n",
    "virginia_summary_statistics = raw_virginia_summary_statistics.style.format({\"Mean Covid-19 Deaths\": (\"{:.0f}\"),\n",
    "                                                                            \"Median of Covid-19 Deaths\": (\"{:.2f}\"),\n",
    "                                                                            \"Standard Deviation of Covid-19 Deaths\": (\"{:.2f}\"),\n",
    "                                                                            \"Variance of Covid-19 Deaths\": (\"{:.2f}\"),\n",
    "                                                                            \"SEM of Covid-19 Deaths\": (\"{:.2f}\"),\n",
    "                                                                            \"Sum of Covid-19 Deaths\": (\"{:.0f}\"),\n",
    "                                                                            \"Min Covid-19 Deaths\": (\"{:.0f}\"),\n",
    "                                                                            \"Max Covid-19 Deaths\": (\"{:.0f}\")\n",
    "                                                                           })\n",
    "\n",
    "bold_start = '\\033[1m'\n",
    "print(bold_start, \"Virginia Summary Statistics Table\")\n",
    "virginia_summary_statistics"
   ]
  },
  {
   "cell_type": "code",
   "execution_count": 9,
   "metadata": {},
   "outputs": [
    {
     "output_type": "error",
     "ename": "NameError",
     "evalue": "name 'florida_state_df' is not defined",
     "traceback": [
      "\u001b[0;31m---------------------------------------------------------------------------\u001b[0m",
      "\u001b[0;31mNameError\u001b[0m                                 Traceback (most recent call last)",
      "\u001b[0;32m<ipython-input-9-915da0e8f65f>\u001b[0m in \u001b[0;36m<module>\u001b[0;34m\u001b[0m\n\u001b[1;32m      1\u001b[0m \u001b[0;31m# Cleaning the Florida state data.\u001b[0m\u001b[0;34m\u001b[0m\u001b[0;34m\u001b[0m\u001b[0;34m\u001b[0m\u001b[0m\n\u001b[0;32m----> 2\u001b[0;31m florida_state_df = florida_state_df.rename(columns={\"Age Group\": \"Age Groups\", \"Cases\": \"COVID-19 Cases\",\n\u001b[0m\u001b[1;32m      3\u001b[0m                                                     \u001b[0;34m\"Hospitalizations\"\u001b[0m\u001b[0;34m:\u001b[0m \u001b[0;34m\"COVID-19 Hospitalizations\"\u001b[0m\u001b[0;34m,\u001b[0m  \u001b[0;34m\"Deaths\"\u001b[0m\u001b[0;34m:\u001b[0m \u001b[0;34m\"COVID-19 Deaths\"\u001b[0m\u001b[0;34m\u001b[0m\u001b[0;34m\u001b[0m\u001b[0m\n\u001b[1;32m      4\u001b[0m                                                     })\n\u001b[1;32m      5\u001b[0m \u001b[0mflorida_state_df\u001b[0m\u001b[0;34m.\u001b[0m\u001b[0mdrop\u001b[0m\u001b[0;34m(\u001b[0m\u001b[0mflorida_state_df\u001b[0m\u001b[0;34m[\u001b[0m\u001b[0mflorida_state_df\u001b[0m\u001b[0;34m[\u001b[0m\u001b[0;34m\"Age Groups\"\u001b[0m\u001b[0;34m]\u001b[0m \u001b[0;34m==\u001b[0m \u001b[0;34m\"Unknown\"\u001b[0m\u001b[0;34m]\u001b[0m\u001b[0;34m.\u001b[0m\u001b[0mindex\u001b[0m\u001b[0;34m,\u001b[0m \u001b[0minplace\u001b[0m \u001b[0;34m=\u001b[0m \u001b[0;32mTrue\u001b[0m\u001b[0;34m)\u001b[0m\u001b[0;34m\u001b[0m\u001b[0;34m\u001b[0m\u001b[0m\n",
      "\u001b[0;31mNameError\u001b[0m: name 'florida_state_df' is not defined"
     ]
    }
   ],
   "source": [
    "# Cleaning the Florida state data.\n",
    "florida_state_df = florida_state_df.rename(columns={\"Age Group\": \"Age Groups\", \"Cases\": \"COVID-19 Cases\",\n",
    "                                                    \"Hospitalizations\": \"COVID-19 Hospitalizations\",  \"Deaths\": \"COVID-19 Deaths\"\n",
    "                                                    })\n",
    "florida_state_df.drop(florida_state_df[florida_state_df[\"Age Groups\"] == \"Unknown\"].index, inplace = True)\n",
    "florida_state_df.drop(florida_state_df[florida_state_df[\"Age Groups\"] == \"Total\"].index, inplace = True)\n",
    "florida_state_df[\"Age Groups\"].replace({\"0-4 years\": \"Younger than 55\", \"5-14 years\": \"Younger than 55\", \"15-24 years\": \"Younger than 55\", \n",
    "                                        \"25-34 years\": \"Younger than 55\", \"35-44 years\": \"Younger than 55\", \"45-54 years\": \"Younger than 55\",\n",
    "                                        \"55-64 years\": \"Between 55 and 64\", \"65-74 years\": \"65 and Older\", \"75-84 years\": \"65 and Older\", \n",
    "                                        \"85+ years\": \"65 and Older\"}, inplace=True)"
   ]
  },
  {
   "cell_type": "code",
   "execution_count": 10,
   "metadata": {
    "tags": []
   },
   "outputs": [
    {
     "output_type": "error",
     "ename": "NameError",
     "evalue": "name 'florida_state_df' is not defined",
     "traceback": [
      "\u001b[0;31m---------------------------------------------------------------------------\u001b[0m",
      "\u001b[0;31mNameError\u001b[0m                                 Traceback (most recent call last)",
      "\u001b[0;32m<ipython-input-10-2ad6358f4eaa>\u001b[0m in \u001b[0;36m<module>\u001b[0;34m\u001b[0m\n\u001b[1;32m      1\u001b[0m \u001b[0;31m# Creating a new kind of table for the Florida state.\u001b[0m\u001b[0;34m\u001b[0m\u001b[0;34m\u001b[0m\u001b[0;34m\u001b[0m\u001b[0m\n\u001b[0;32m----> 2\u001b[0;31m \u001b[0mcases_sum\u001b[0m \u001b[0;34m=\u001b[0m \u001b[0mflorida_state_df\u001b[0m\u001b[0;34m[\u001b[0m\u001b[0;34m\"COVID-19 Cases\"\u001b[0m\u001b[0;34m]\u001b[0m\u001b[0;34m.\u001b[0m\u001b[0msum\u001b[0m\u001b[0;34m(\u001b[0m\u001b[0;34m)\u001b[0m\u001b[0;34m\u001b[0m\u001b[0;34m\u001b[0m\u001b[0m\n\u001b[0m\u001b[1;32m      3\u001b[0m \u001b[0mhospitalizations_sum\u001b[0m \u001b[0;34m=\u001b[0m \u001b[0mflorida_state_df\u001b[0m\u001b[0;34m[\u001b[0m\u001b[0;34m\"COVID-19 Hospitalizations\"\u001b[0m\u001b[0;34m]\u001b[0m\u001b[0;34m.\u001b[0m\u001b[0msum\u001b[0m\u001b[0;34m(\u001b[0m\u001b[0;34m)\u001b[0m\u001b[0;34m\u001b[0m\u001b[0;34m\u001b[0m\u001b[0m\n\u001b[1;32m      4\u001b[0m \u001b[0mdeaths_sum\u001b[0m \u001b[0;34m=\u001b[0m \u001b[0mflorida_state_df\u001b[0m\u001b[0;34m[\u001b[0m\u001b[0;34m\"COVID-19 Deaths\"\u001b[0m\u001b[0;34m]\u001b[0m\u001b[0;34m.\u001b[0m\u001b[0msum\u001b[0m\u001b[0;34m(\u001b[0m\u001b[0;34m)\u001b[0m\u001b[0;34m\u001b[0m\u001b[0;34m\u001b[0m\u001b[0m\n\u001b[1;32m      5\u001b[0m \u001b[0;34m\u001b[0m\u001b[0m\n",
      "\u001b[0;31mNameError\u001b[0m: name 'florida_state_df' is not defined"
     ]
    }
   ],
   "source": [
    "# Creating a new kind of table for the Florida state.\n",
    "cases_sum = florida_state_df[\"COVID-19 Cases\"].sum()\n",
    "hospitalizations_sum = florida_state_df[\"COVID-19 Hospitalizations\"].sum()\n",
    "deaths_sum = florida_state_df[\"COVID-19 Deaths\"].sum()\n",
    "\n",
    "index = [\"Younger than 55\", \"Between 55 and 64\", \"65 and Older\"]\n",
    "florida_state_age_group = florida_state_df.groupby(\"Age Groups\")\n",
    "mean_florida_state_age_group_cases = florida_state_age_group[\"COVID-19 Cases\"].mean()\n",
    "mean_florida_state_age_group_hospitalizations = florida_state_age_group[\"COVID-19 Hospitalizations\"].mean()\n",
    "mean_florida_state_age_group_deaths = florida_state_age_group[\"COVID-19 Deaths\"].mean()\n",
    "sum_florida_state_age_group_cases = florida_state_age_group[\"COVID-19 Cases\"].sum()\n",
    "sum_florida_state_age_group_hospitalizations = florida_state_age_group[\"COVID-19 Hospitalizations\"].sum()\n",
    "sum_florida_state_age_group_deaths = florida_state_age_group[\"COVID-19 Deaths\"].sum()\n",
    "percentage_florida_state_age_group_cases = (florida_state_age_group[\"COVID-19 Cases\"].sum()/cases_sum)*100\n",
    "percentage_florida_state_age_group_hospitalizations = (florida_state_age_group[\"COVID-19 Hospitalizations\"].sum()/hospitalizations_sum)*100\n",
    "percentage_florida_state_age_group_deaths = (florida_state_age_group[\"COVID-19 Deaths\"].sum()/deaths_sum)*100\n",
    "\n",
    "raw_florida_report = pd.DataFrame({\"Mean COVID-19 Cases\": mean_florida_state_age_group_cases,\n",
    "                                   \"Mean COVID-19 Hospitatizations\": mean_florida_state_age_group_hospitalizations,\n",
    "                                   \"Mean COVID-19 Deaths\": mean_florida_state_age_group_deaths,\n",
    "                                   \"Sum COVID-19 Cases\": sum_florida_state_age_group_cases,\n",
    "                                   \"Sum COVID-19 Hospitalizations\": sum_florida_state_age_group_hospitalizations,\n",
    "                                   \"Sum COVID-19 Deaths\": sum_florida_state_age_group_deaths,\n",
    "                                   \"% COVID-19 Cases\": percentage_florida_state_age_group_cases,\n",
    "                                   \"% COVID-19 Hospitalizations\": percentage_florida_state_age_group_hospitalizations,\n",
    "                                   \"% COVID-19 Deaths\": percentage_florida_state_age_group_deaths},\n",
    "                                   index=index)\n",
    "\n",
    "def round_down(value, decimal=0): \n",
    "    multiplier = 10 ** decimal\n",
    "    return math.trunc(value * multiplier) / multiplier\n",
    "\n",
    "raw_florida_report.at[\"Younger than 55\", \"% COVID-19 Hospitalizations\"] = round_down((raw_florida_report.iloc[0, 7]), 2)\n",
    "\n",
    "florida_report = raw_florida_report.style.format({\"Mean COVID-19 Cases\": (\"{:.0f}\"),\n",
    "                                                  \"Mean COVID-19 Hospitatizations\": (\"{:.0f}\"),\n",
    "                                                  \"Mean COVID-19 Deaths\": (\"{:.0f}\"),\n",
    "                                                  \"Sum COVID-19 Cases\": (\"{:.0f}\"),\n",
    "                                                  \"Sum COVID-19 Hospitalizations\": (\"{:.0f}\"),\n",
    "                                                  \"Sum COVID-19 Deaths\": (\"{:.0f}\"),\n",
    "                                                  \"% COVID-19 Cases\": (\"{:.2f}%\"),\n",
    "                                                  \"% COVID-19 Hospitalizations\": (\"{:.2f}%\"),\n",
    "                                                  \"% COVID-19 Deaths\": (\"{:.2f}%\")\n",
    "                                                })\n",
    "\n",
    "bold_start = '\\033[1m'\n",
    "print(bold_start, \"Florida Report\")\n",
    "florida_report"
   ]
  },
  {
   "cell_type": "code",
   "execution_count": 11,
   "metadata": {
    "tags": []
   },
   "outputs": [
    {
     "output_type": "error",
     "ename": "NameError",
     "evalue": "name 'georgia_state_df' is not defined",
     "traceback": [
      "\u001b[0;31m---------------------------------------------------------------------------\u001b[0m",
      "\u001b[0;31mNameError\u001b[0m                                 Traceback (most recent call last)",
      "\u001b[0;32m<ipython-input-11-db70394b13d0>\u001b[0m in \u001b[0;36m<module>\u001b[0;34m\u001b[0m\n\u001b[1;32m      2\u001b[0m \u001b[0mcolumns\u001b[0m \u001b[0;34m=\u001b[0m \u001b[0;34m[\u001b[0m\u001b[0;34m\"COVID-19 Cases\"\u001b[0m\u001b[0;34m,\u001b[0m \u001b[0;34m\"COVID-19 Hospitalizations\"\u001b[0m\u001b[0;34m,\u001b[0m \u001b[0;34m\"COVID-19 Deaths\"\u001b[0m\u001b[0;34m]\u001b[0m\u001b[0;34m\u001b[0m\u001b[0;34m\u001b[0m\u001b[0m\n\u001b[1;32m      3\u001b[0m \u001b[0;34m\u001b[0m\u001b[0m\n\u001b[0;32m----> 4\u001b[0;31m raw_georgia_state_df = georgia_state_df.rename(columns={\"Age Group\": \"Age Groups\", \"Cases\": \"COVID-19 Cases\",\n\u001b[0m\u001b[1;32m      5\u001b[0m                                                         \u001b[0;34m\"Hospitalizations\"\u001b[0m\u001b[0;34m:\u001b[0m \u001b[0;34m\"COVID-19 Hospitalizations\"\u001b[0m\u001b[0;34m,\u001b[0m \u001b[0;34m\"Deaths\"\u001b[0m\u001b[0;34m:\u001b[0m \u001b[0;34m\"COVID-19 Deaths\"\u001b[0m\u001b[0;34m\u001b[0m\u001b[0;34m\u001b[0m\u001b[0m\n\u001b[1;32m      6\u001b[0m                                                         })\n",
      "\u001b[0;31mNameError\u001b[0m: name 'georgia_state_df' is not defined"
     ]
    }
   ],
   "source": [
    "# Cleaning the Georgia state data.\n",
    "columns = [\"COVID-19 Cases\", \"COVID-19 Hospitalizations\", \"COVID-19 Deaths\"]\n",
    "\n",
    "raw_georgia_state_df = georgia_state_df.rename(columns={\"Age Group\": \"Age Groups\", \"Cases\": \"COVID-19 Cases\",\n",
    "                                                        \"Hospitalizations\": \"COVID-19 Hospitalizations\", \"Deaths\": \"COVID-19 Deaths\" \n",
    "                                                        })\n",
    "\n",
    "raw_georgia_state_df.drop(raw_georgia_state_df[raw_georgia_state_df[\"Age Groups\"] == \"Unknown\"].index, inplace = True)\n",
    "raw_georgia_state_df.drop(raw_georgia_state_df[raw_georgia_state_df[\"Age Groups\"] == \"Total\"].index, inplace = True)\n",
    "\n",
    "raw_first_formatter = raw_georgia_state_df.iloc[6:7, 1:4]\n",
    "raw_second_formatter = raw_georgia_state_df.iloc[7:8, 1:4]\n",
    "raw_third_formatter = raw_georgia_state_df.iloc[8:9, 1:4]\n",
    "\n",
    "raw_first_formatter_list = []\n",
    "raw_second_formatter_list = []\n",
    "raw_third_formatter_list = []\n",
    "final_first_formatter_list = []\n",
    "final_second_formatter_list = []\n",
    "final_third_formatter_list = []\n",
    "\n",
    "for labels in columns:\n",
    "    intermediary_first_formatter = float(raw_first_formatter[labels])\n",
    "    raw_first_formatter_list.append(intermediary_first_formatter)\n",
    "    intermediary_second_formatter = float(raw_second_formatter[labels])\n",
    "    raw_second_formatter_list.append(intermediary_second_formatter)\n",
    "    intermediary_third_formatter = float(raw_third_formatter[labels])\n",
    "    raw_third_formatter_list.append(intermediary_third_formatter)\n",
    "\n",
    "zip_object = zip(raw_first_formatter_list, raw_second_formatter_list, raw_third_formatter_list)\n",
    "for raw_first_formatter_list_i, raw_second_formatter_list_i, raw_third_formatter_list_i in zip_object:\n",
    "    intermediary_first_formatter_2 = raw_first_formatter_list_i + raw_second_formatter_list_i*(1/2)\n",
    "    final_first_formatter_list.append(intermediary_first_formatter_2)\n",
    "    intermediary_second_formatter_2 = raw_second_formatter_list_i*(1/2) + raw_third_formatter_list_i*(1/2)\n",
    "    final_second_formatter_list.append(intermediary_second_formatter_2)\n",
    "    intermediary_third_formatter_2 = raw_third_formatter_list_i*(1/2)\n",
    "    final_third_formatter_list.append(intermediary_third_formatter_2)\n",
    "\n",
    "raw_georgia_state_df.iloc[6:7, 1:4] = final_first_formatter_list\n",
    "raw_georgia_state_df.iloc[7:8, 1:4] = final_second_formatter_list\n",
    "raw_georgia_state_df.iloc[8:9, 1:4] = final_third_formatter_list\n",
    "\n",
    "final_georgia_state_df = raw_georgia_state_df \n",
    "final_georgia_state_df.replace({\"<1\": \"Younger than 55\", \"1-4 years\": \"Younger than 55\", \"5-9 years\": \"Younger than 55\", \n",
    "                                \"10-17 years\": \"Younger than 55\", \"18-29 years\": \"Younger than 55\", \"30-39 years\": \"Younger than 55\",\n",
    "                                \"40-49 years\": \"Younger than 55\", \"50-59 years\": \"Between 55 and 64\", \"60-69 years\": \"65 and Older\", \n",
    "                                \"70-79 years\": \"65 and Older\", \"80 & Older\": \"65 and Older\"}, inplace=True)\n"
   ]
  },
  {
   "cell_type": "code",
   "execution_count": 12,
   "metadata": {
    "tags": []
   },
   "outputs": [
    {
     "output_type": "error",
     "ename": "NameError",
     "evalue": "name 'final_georgia_state_df' is not defined",
     "traceback": [
      "\u001b[0;31m---------------------------------------------------------------------------\u001b[0m",
      "\u001b[0;31mNameError\u001b[0m                                 Traceback (most recent call last)",
      "\u001b[0;32m<ipython-input-12-053305db1f34>\u001b[0m in \u001b[0;36m<module>\u001b[0;34m\u001b[0m\n\u001b[1;32m      1\u001b[0m \u001b[0;31m# Creating a new kind of table for the Georgia state.\u001b[0m\u001b[0;34m\u001b[0m\u001b[0;34m\u001b[0m\u001b[0;34m\u001b[0m\u001b[0m\n\u001b[0;32m----> 2\u001b[0;31m \u001b[0mcases_sum\u001b[0m \u001b[0;34m=\u001b[0m \u001b[0mfinal_georgia_state_df\u001b[0m\u001b[0;34m[\u001b[0m\u001b[0;34m\"COVID-19 Cases\"\u001b[0m\u001b[0;34m]\u001b[0m\u001b[0;34m.\u001b[0m\u001b[0msum\u001b[0m\u001b[0;34m(\u001b[0m\u001b[0;34m)\u001b[0m\u001b[0;34m\u001b[0m\u001b[0;34m\u001b[0m\u001b[0m\n\u001b[0m\u001b[1;32m      3\u001b[0m \u001b[0mhospitalizations_sum\u001b[0m \u001b[0;34m=\u001b[0m \u001b[0mfinal_georgia_state_df\u001b[0m\u001b[0;34m[\u001b[0m\u001b[0;34m\"COVID-19 Hospitalizations\"\u001b[0m\u001b[0;34m]\u001b[0m\u001b[0;34m.\u001b[0m\u001b[0msum\u001b[0m\u001b[0;34m(\u001b[0m\u001b[0;34m)\u001b[0m\u001b[0;34m\u001b[0m\u001b[0;34m\u001b[0m\u001b[0m\n\u001b[1;32m      4\u001b[0m \u001b[0mdeaths_sum\u001b[0m \u001b[0;34m=\u001b[0m \u001b[0mfinal_georgia_state_df\u001b[0m\u001b[0;34m[\u001b[0m\u001b[0;34m\"COVID-19 Deaths\"\u001b[0m\u001b[0;34m]\u001b[0m\u001b[0;34m.\u001b[0m\u001b[0msum\u001b[0m\u001b[0;34m(\u001b[0m\u001b[0;34m)\u001b[0m\u001b[0;34m\u001b[0m\u001b[0;34m\u001b[0m\u001b[0m\n\u001b[1;32m      5\u001b[0m \u001b[0;34m\u001b[0m\u001b[0m\n",
      "\u001b[0;31mNameError\u001b[0m: name 'final_georgia_state_df' is not defined"
     ]
    }
   ],
   "source": [
    "# Creating a new kind of table for the Georgia state.\n",
    "cases_sum = final_georgia_state_df[\"COVID-19 Cases\"].sum()\n",
    "hospitalizations_sum = final_georgia_state_df[\"COVID-19 Hospitalizations\"].sum()\n",
    "deaths_sum = final_georgia_state_df[\"COVID-19 Deaths\"].sum()\n",
    "\n",
    "index = [\"Younger than 55\", \"Between 55 and 64\", \"65 and Older\"]\n",
    "georgia_state_age_group = final_georgia_state_df.groupby(\"Age Groups\")\n",
    "mean_georgia_state_age_group_cases = georgia_state_age_group[\"COVID-19 Cases\"].mean()\n",
    "mean_georgia_state_age_group_hospitalizations = georgia_state_age_group[\"COVID-19 Hospitalizations\"].mean()\n",
    "mean_georgia_state_age_group_deaths = georgia_state_age_group[\"COVID-19 Deaths\"].mean()\n",
    "sum_georgia_state_age_group_cases = georgia_state_age_group[\"COVID-19 Cases\"].sum()\n",
    "sum_georgia_state_age_group_hospitalizations = georgia_state_age_group[\"COVID-19 Hospitalizations\"].sum()\n",
    "sum_georgia_state_age_group_deaths = georgia_state_age_group[\"COVID-19 Deaths\"].sum()\n",
    "percentage_georgia_state_age_group_cases = (georgia_state_age_group[\"COVID-19 Cases\"].sum()/cases_sum)*100\n",
    "percentage_georgia_state_age_group_hospitalizations = (georgia_state_age_group[\"COVID-19 Hospitalizations\"].sum()/hospitalizations_sum)*100\n",
    "percentage_georgia_state_age_group_deaths = (georgia_state_age_group[\"COVID-19 Deaths\"].sum()/deaths_sum)*100\n",
    "\n",
    "raw_georgia_report = pd.DataFrame({\"Mean COVID-19 Cases\": mean_georgia_state_age_group_cases,\n",
    "                                   \"Mean COVID-19 Hospitatizations\": mean_georgia_state_age_group_hospitalizations,\n",
    "                                   \"Mean COVID-19 Deaths\": mean_georgia_state_age_group_deaths,\n",
    "                                   \"Sum COVID-19 Cases\": sum_georgia_state_age_group_cases,\n",
    "                                   \"Sum COVID-19 Hospitalizations\": sum_georgia_state_age_group_hospitalizations,\n",
    "                                   \"Sum COVID-19 Deaths\": sum_georgia_state_age_group_deaths,\n",
    "                                   \"% COVID-19 Cases\": percentage_georgia_state_age_group_cases,\n",
    "                                   \"% COVID-19 Hospitalizations\": percentage_georgia_state_age_group_hospitalizations,\n",
    "                                   \"% COVID-19 Deaths\": percentage_georgia_state_age_group_deaths},\n",
    "                                   index=index)\n",
    "\n",
    "def round_up(value, decimal=0): \n",
    "    multiplier = 10 ** decimal\n",
    "    return math.ceil(value * multiplier) / multiplier\n",
    "\n",
    "raw_georgia_report.at[\"Younger than 55\", \"% COVID-19 Hospitalizations\"] = round_up((raw_georgia_report.iloc[0, 7]), 2)\n",
    "\n",
    "georgia_report = raw_georgia_report.style.format({\"Mean COVID-19 Cases\": (\"{:.0f}\"),\n",
    "                                                  \"Mean COVID-19 Hospitatizations\": (\"{:.0f}\"),\n",
    "                                                  \"Mean COVID-19 Deaths\": (\"{:.0f}\"),\n",
    "                                                  \"Sum COVID-19 Cases\": (\"{:.0f}\"),\n",
    "                                                  \"Sum COVID-19 Hospitalizations\": (\"{:.0f}\"),\n",
    "                                                  \"Sum COVID-19 Deaths\": (\"{:.0f}\"),\n",
    "                                                  \"% COVID-19 Cases\": (\"{:.2f}%\"),\n",
    "                                                  \"% COVID-19 Hospitalizations\": (\"{:.2f}%\"),\n",
    "                                                  \"% COVID-19 Deaths\": (\"{:.2f}%\")\n",
    "                                                 })\n",
    "\n",
    "bold_start = '\\033[1m'\n",
    "print(bold_start, \"Georgia Report\")\n",
    "georgia_report"
   ]
  },
  {
   "cell_type": "code",
   "execution_count": 13,
   "metadata": {},
   "outputs": [
    {
     "output_type": "error",
     "ename": "NameError",
     "evalue": "name 'states_comparison_df' is not defined",
     "traceback": [
      "\u001b[0;31m---------------------------------------------------------------------------\u001b[0m",
      "\u001b[0;31mNameError\u001b[0m                                 Traceback (most recent call last)",
      "\u001b[0;32m<ipython-input-13-8487f79acf4d>\u001b[0m in \u001b[0;36m<module>\u001b[0;34m\u001b[0m\n\u001b[1;32m      1\u001b[0m \u001b[0;31m# Cleaning all of the states and the overall united states data for comparison purposes (from 1st February to July 4th).\u001b[0m\u001b[0;34m\u001b[0m\u001b[0;34m\u001b[0m\u001b[0;34m\u001b[0m\u001b[0m\n\u001b[1;32m      2\u001b[0m \u001b[0mcolumns\u001b[0m \u001b[0;34m=\u001b[0m \u001b[0;34m[\u001b[0m\u001b[0;34m\"State\"\u001b[0m\u001b[0;34m,\u001b[0m \u001b[0;34m\"Age Groups\"\u001b[0m\u001b[0;34m,\u001b[0m \u001b[0;34m\"COVID-19 Deaths\"\u001b[0m\u001b[0;34m]\u001b[0m\u001b[0;34m\u001b[0m\u001b[0;34m\u001b[0m\u001b[0m\n\u001b[0;32m----> 3\u001b[0;31m \u001b[0mraw_states_comparison_df\u001b[0m \u001b[0;34m=\u001b[0m \u001b[0mstates_comparison_df\u001b[0m\u001b[0;34m[\u001b[0m\u001b[0;34m[\u001b[0m\u001b[0;34m\"State\"\u001b[0m\u001b[0;34m,\u001b[0m \u001b[0;34m\"Sex\"\u001b[0m\u001b[0;34m,\u001b[0m \u001b[0;34m\"Age group\"\u001b[0m\u001b[0;34m,\u001b[0m \u001b[0;34m\"COVID-19 Deaths\"\u001b[0m\u001b[0;34m]\u001b[0m\u001b[0;34m]\u001b[0m\u001b[0;34m\u001b[0m\u001b[0;34m\u001b[0m\u001b[0m\n\u001b[0m\u001b[1;32m      4\u001b[0m \u001b[0mraw_states_comparison_df\u001b[0m \u001b[0;34m=\u001b[0m \u001b[0mraw_states_comparison_df\u001b[0m\u001b[0;34m.\u001b[0m\u001b[0mrename\u001b[0m\u001b[0;34m(\u001b[0m\u001b[0mcolumns\u001b[0m\u001b[0;34m=\u001b[0m\u001b[0;34m{\u001b[0m\u001b[0;34m\"Age group\"\u001b[0m\u001b[0;34m:\u001b[0m \u001b[0;34m\"Age Groups\"\u001b[0m\u001b[0;34m}\u001b[0m\u001b[0;34m)\u001b[0m\u001b[0;34m\u001b[0m\u001b[0;34m\u001b[0m\u001b[0m\n\u001b[1;32m      5\u001b[0m \u001b[0;34m\u001b[0m\u001b[0m\n",
      "\u001b[0;31mNameError\u001b[0m: name 'states_comparison_df' is not defined"
     ]
    }
   ],
   "source": [
    "# Cleaning all of the states and the overall united states data for comparison purposes (from 1st February to July 4th).\n",
    "columns = [\"State\", \"Age Groups\", \"COVID-19 Deaths\"]\n",
    "raw_states_comparison_df = states_comparison_df[[\"State\", \"Sex\", \"Age group\", \"COVID-19 Deaths\"]]\n",
    "raw_states_comparison_df = raw_states_comparison_df.rename(columns={\"Age group\": \"Age Groups\"})\n",
    "\n",
    "raw_states_comparison_df = raw_states_comparison_df.dropna()\n",
    "raw_states_comparison_df.drop(raw_states_comparison_df[raw_states_comparison_df[\"Sex\"] == \"Unknown\"].index, inplace = True)\n",
    "raw_states_comparison_df.drop(raw_states_comparison_df[raw_states_comparison_df[\"Sex\"] == \"All\"].index, inplace = True)\n",
    "raw_states_comparison_df.drop(raw_states_comparison_df[raw_states_comparison_df[\"Age Groups\"] == \"All Ages\"].index, inplace = True)\n",
    "raw_states_comparison_df.drop(raw_states_comparison_df[raw_states_comparison_df[\"Age Groups\"] == \"All ages\"].index, inplace = True)\n",
    "intermediary_states_comparison_df = raw_states_comparison_df[[\"State\", \"Age Groups\", \"COVID-19 Deaths\"]]\n",
    "intermediary_states_comparison_df.replace({\"Under 1 year\": \"Younger than 55\", \"1-4 years\": \"Younger than 55\", \"5-14 years\": \"Younger than 55\", \n",
    "                                           \"15-24 years\": \"Younger than 55\", \"25-34 years\": \"Younger than 55\", \"35-44 years\": \"Younger than 55\",\n",
    "                                           \"45-54 years\": \"Younger than 55\", \"55-64 years\": \"Between 55 and 64\", \"65-74 years\": \"65 and Older\", \n",
    "                                           \"75-84 years\": \"65 and Older\", \"85 years and over\": \"65 and Older\"}, inplace=True)"
   ]
  },
  {
   "cell_type": "code",
   "execution_count": 14,
   "metadata": {
    "tags": []
   },
   "outputs": [
    {
     "output_type": "error",
     "ename": "NameError",
     "evalue": "name 'intermediary_states_comparison_df' is not defined",
     "traceback": [
      "\u001b[0;31m---------------------------------------------------------------------------\u001b[0m",
      "\u001b[0;31mNameError\u001b[0m                                 Traceback (most recent call last)",
      "\u001b[0;32m<ipython-input-14-03ba5da6559a>\u001b[0m in \u001b[0;36m<module>\u001b[0;34m\u001b[0m\n\u001b[1;32m      3\u001b[0m \u001b[0mindex\u001b[0m \u001b[0;34m=\u001b[0m \u001b[0;34m[\u001b[0m\u001b[0;34m\"Younger than 55\"\u001b[0m\u001b[0;34m,\u001b[0m \u001b[0;34m\"Between 55 and 64\"\u001b[0m\u001b[0;34m,\u001b[0m \u001b[0;34m\"65 and Older\"\u001b[0m\u001b[0;34m]\u001b[0m\u001b[0;34m\u001b[0m\u001b[0;34m\u001b[0m\u001b[0m\n\u001b[1;32m      4\u001b[0m \u001b[0;34m\u001b[0m\u001b[0m\n\u001b[0;32m----> 5\u001b[0;31m \u001b[0mcalifornia_df\u001b[0m \u001b[0;34m=\u001b[0m \u001b[0mintermediary_states_comparison_df\u001b[0m\u001b[0;34m.\u001b[0m\u001b[0mloc\u001b[0m\u001b[0;34m[\u001b[0m\u001b[0mintermediary_states_comparison_df\u001b[0m\u001b[0;34m[\u001b[0m\u001b[0;34m\"State\"\u001b[0m\u001b[0;34m]\u001b[0m \u001b[0;34m==\u001b[0m \u001b[0;34m\"California\"\u001b[0m\u001b[0;34m,\u001b[0m \u001b[0mcolumns\u001b[0m\u001b[0;34m]\u001b[0m\u001b[0;34m\u001b[0m\u001b[0;34m\u001b[0m\u001b[0m\n\u001b[0m\u001b[1;32m      6\u001b[0m \u001b[0mcalifornia_sum\u001b[0m \u001b[0;34m=\u001b[0m \u001b[0mcalifornia_df\u001b[0m\u001b[0;34m[\u001b[0m\u001b[0;34m\"COVID-19 Deaths\"\u001b[0m\u001b[0;34m]\u001b[0m\u001b[0;34m.\u001b[0m\u001b[0msum\u001b[0m\u001b[0;34m(\u001b[0m\u001b[0;34m)\u001b[0m\u001b[0;34m\u001b[0m\u001b[0;34m\u001b[0m\u001b[0m\n\u001b[1;32m      7\u001b[0m \u001b[0mcalifornia_age_group\u001b[0m \u001b[0;34m=\u001b[0m \u001b[0mcalifornia_df\u001b[0m\u001b[0;34m.\u001b[0m\u001b[0mgroupby\u001b[0m\u001b[0;34m(\u001b[0m\u001b[0;34m\"Age Groups\"\u001b[0m\u001b[0;34m)\u001b[0m\u001b[0;34m\u001b[0m\u001b[0;34m\u001b[0m\u001b[0m\n",
      "\u001b[0;31mNameError\u001b[0m: name 'intermediary_states_comparison_df' is not defined"
     ]
    }
   ],
   "source": [
    "# Creating a table for comparing the percentage of cases of all the states with the United States based on age groups. \n",
    "columns = [\"State\", \"Age Groups\", \"COVID-19 Deaths\"]\n",
    "index = [\"Younger than 55\", \"Between 55 and 64\", \"65 and Older\"]\n",
    "\n",
    "california_df = intermediary_states_comparison_df.loc[intermediary_states_comparison_df[\"State\"] == \"California\", columns]\n",
    "california_sum = california_df[\"COVID-19 Deaths\"].sum()\n",
    "california_age_group = california_df.groupby(\"Age Groups\")\n",
    "percentage_california = (california_age_group[\"COVID-19 Deaths\"].sum()/california_sum)*100\n",
    "connecticut_df = intermediary_states_comparison_df.loc[intermediary_states_comparison_df[\"State\"] == \"Connecticut\", columns]\n",
    "connecticut_sum = connecticut_df[\"COVID-19 Deaths\"].sum()\n",
    "connecticut_age_group = connecticut_df.groupby(\"Age Groups\")\n",
    "percentage_connecticut = (connecticut_age_group[\"COVID-19 Deaths\"].sum()/connecticut_sum)*100\n",
    "virginia_df = intermediary_states_comparison_df.loc[intermediary_states_comparison_df[\"State\"] == \"Virginia\", columns]\n",
    "virginia_sum = virginia_df[\"COVID-19 Deaths\"].sum()\n",
    "virginia_age_group = virginia_df.groupby(\"Age Groups\")\n",
    "percentage_virginia = (virginia_age_group[\"COVID-19 Deaths\"].sum()/virginia_sum)*100\n",
    "florida_df = intermediary_states_comparison_df.loc[intermediary_states_comparison_df[\"State\"] == \"Florida\", columns]\n",
    "florida_sum = florida_df[\"COVID-19 Deaths\"].sum()\n",
    "florida_age_group = florida_df.groupby(\"Age Groups\")\n",
    "percentage_florida = (florida_age_group[\"COVID-19 Deaths\"].sum()/florida_sum)*100\n",
    "georgia_df = intermediary_states_comparison_df.loc[intermediary_states_comparison_df[\"State\"] == \"Georgia\", columns]\n",
    "georgia_sum = georgia_df[\"COVID-19 Deaths\"].sum()\n",
    "georgia_age_group = georgia_df.groupby(\"Age Groups\")\n",
    "percentage_georgia = (georgia_age_group[\"COVID-19 Deaths\"].sum()/georgia_sum)*100\n",
    "united_states_df = intermediary_states_comparison_df.loc[intermediary_states_comparison_df[\"State\"] == \"United States\", columns]\n",
    "united_states_sum = united_states_df[\"COVID-19 Deaths\"].sum()\n",
    "united_states_age_group = united_states_df.groupby(\"Age Groups\")\n",
    "percentage_united_states = (united_states_age_group[\"COVID-19 Deaths\"].sum()/united_states_sum)*100\n",
    "\n",
    "raw_percent_overall_report = pd.DataFrame({\"% California COVID-19 Deaths\": percentage_california,\n",
    "                                           \"% Connecticut COVID-19 Deaths\": percentage_connecticut,\n",
    "                                           \"% Virginia COVID-19 Deaths\": percentage_virginia,\n",
    "                                           \"% Florida COVID-19 Deaths\": percentage_florida,\n",
    "                                           \"% Georgia COVID-19 Deaths\": percentage_georgia,\n",
    "                                           \"% Overall U.S. COVID-19 Deaths\": percentage_united_states},\n",
    "                                           index=index)\n",
    "\n",
    "def round_down(value, decimal=0): \n",
    "    multiplier = 10 ** decimal\n",
    "    return math.trunc(value * multiplier) / multiplier\n",
    "\n",
    "raw_percent_overall_report.at[\"Younger than 55\", \"% California COVID-19 Deaths\"] = round_down((raw_percent_overall_report.iloc[0, 0]), 2)\n",
    "raw_percent_overall_report.at[\"Younger than 55\", \"% Overall U.S. COVID-19 Deaths\"] = round_down((raw_percent_overall_report.iloc[0, 5]), 2)\n",
    "\n",
    "def round_up(value, decimal=0): \n",
    "    multiplier = 10 ** decimal\n",
    "    return math.ceil(value * multiplier) / multiplier\n",
    "\n",
    "raw_percent_overall_report.at[\"Younger than 55\", \"% Georgia COVID-19 Deaths\"] = round_up((raw_percent_overall_report.iloc[0, 4]), 2)\n",
    "\n",
    "percent_overall_report = raw_percent_overall_report.style.format({\"% California COVID-19 Deaths\": (\"{:.2f}%\"),\n",
    "                                                                  \"% Connecticut COVID-19 Deaths\": (\"{:.2f}%\"),\n",
    "                                                                  \"% Virginia COVID-19 Deaths\": (\"{:.2f}%\"),\n",
    "                                                                  \"% Florida COVID-19 Deaths\": (\"{:.2f}%\"),\n",
    "                                                                  \"% Georgia COVID-19 Deaths\": (\"{:.2f}%\"),\n",
    "                                                                  \"% Overall U.S. COVID-19 Deaths\": (\"{:.2f}%\")\n",
    "                                                                 })\n",
    "\n",
    "bold_start = '\\033[1m'\n",
    "print(bold_start, \"Overall Report: From February 2nd to July 4th, 2020\")\n",
    "percent_overall_report"
   ]
  },
  {
   "cell_type": "code",
   "execution_count": 15,
   "metadata": {
    "tags": []
   },
   "outputs": [
    {
     "output_type": "error",
     "ename": "NameError",
     "evalue": "name 'intermediary_states_comparison_df' is not defined",
     "traceback": [
      "\u001b[0;31m---------------------------------------------------------------------------\u001b[0m",
      "\u001b[0;31mNameError\u001b[0m                                 Traceback (most recent call last)",
      "\u001b[0;32m<ipython-input-15-76b8b0c71389>\u001b[0m in \u001b[0;36m<module>\u001b[0;34m\u001b[0m\n\u001b[0;32m----> 1\u001b[0;31m \u001b[0mcalifornia_df\u001b[0m \u001b[0;34m=\u001b[0m \u001b[0mintermediary_states_comparison_df\u001b[0m\u001b[0;34m.\u001b[0m\u001b[0mloc\u001b[0m\u001b[0;34m[\u001b[0m\u001b[0mintermediary_states_comparison_df\u001b[0m\u001b[0;34m[\u001b[0m\u001b[0;34m\"State\"\u001b[0m\u001b[0;34m]\u001b[0m \u001b[0;34m==\u001b[0m \u001b[0;34m\"California\"\u001b[0m\u001b[0;34m,\u001b[0m \u001b[0mcolumns\u001b[0m\u001b[0;34m]\u001b[0m\u001b[0;34m\u001b[0m\u001b[0;34m\u001b[0m\u001b[0m\n\u001b[0m\u001b[1;32m      2\u001b[0m \u001b[0mcalifornia_group_1\u001b[0m \u001b[0;34m=\u001b[0m \u001b[0mcalifornia_df\u001b[0m\u001b[0;34m[\u001b[0m\u001b[0mcalifornia_df\u001b[0m\u001b[0;34m[\u001b[0m\u001b[0;34m\"Age Groups\"\u001b[0m\u001b[0;34m]\u001b[0m \u001b[0;34m==\u001b[0m \u001b[0;34m\"Younger than 55\"\u001b[0m\u001b[0;34m]\u001b[0m\u001b[0;34m[\u001b[0m\u001b[0;34m\"COVID-19 Deaths\"\u001b[0m\u001b[0;34m]\u001b[0m\u001b[0;34m\u001b[0m\u001b[0;34m\u001b[0m\u001b[0m\n\u001b[1;32m      3\u001b[0m \u001b[0mcalifornia_group_2\u001b[0m \u001b[0;34m=\u001b[0m \u001b[0mcalifornia_df\u001b[0m\u001b[0;34m[\u001b[0m\u001b[0mcalifornia_df\u001b[0m\u001b[0;34m[\u001b[0m\u001b[0;34m\"Age Groups\"\u001b[0m\u001b[0;34m]\u001b[0m \u001b[0;34m==\u001b[0m \u001b[0;34m\"Between 55 and 64\"\u001b[0m\u001b[0;34m]\u001b[0m\u001b[0;34m[\u001b[0m\u001b[0;34m\"COVID-19 Deaths\"\u001b[0m\u001b[0;34m]\u001b[0m\u001b[0;34m\u001b[0m\u001b[0;34m\u001b[0m\u001b[0m\n\u001b[1;32m      4\u001b[0m \u001b[0mcalifornia_group_3\u001b[0m \u001b[0;34m=\u001b[0m \u001b[0mcalifornia_df\u001b[0m\u001b[0;34m[\u001b[0m\u001b[0mcalifornia_df\u001b[0m\u001b[0;34m[\u001b[0m\u001b[0;34m\"Age Groups\"\u001b[0m\u001b[0;34m]\u001b[0m \u001b[0;34m==\u001b[0m \u001b[0;34m\"65 and Older\"\u001b[0m\u001b[0;34m]\u001b[0m\u001b[0;34m[\u001b[0m\u001b[0;34m\"COVID-19 Deaths\"\u001b[0m\u001b[0;34m]\u001b[0m\u001b[0;34m\u001b[0m\u001b[0;34m\u001b[0m\u001b[0m\n\u001b[1;32m      5\u001b[0m \u001b[0mconnecticut_df\u001b[0m \u001b[0;34m=\u001b[0m \u001b[0mintermediary_states_comparison_df\u001b[0m\u001b[0;34m.\u001b[0m\u001b[0mloc\u001b[0m\u001b[0;34m[\u001b[0m\u001b[0mintermediary_states_comparison_df\u001b[0m\u001b[0;34m[\u001b[0m\u001b[0;34m\"State\"\u001b[0m\u001b[0;34m]\u001b[0m \u001b[0;34m==\u001b[0m \u001b[0;34m\"Connecticut\"\u001b[0m\u001b[0;34m,\u001b[0m \u001b[0mcolumns\u001b[0m\u001b[0;34m]\u001b[0m\u001b[0;34m\u001b[0m\u001b[0;34m\u001b[0m\u001b[0m\n",
      "\u001b[0;31mNameError\u001b[0m: name 'intermediary_states_comparison_df' is not defined"
     ]
    }
   ],
   "source": [
    "california_df = intermediary_states_comparison_df.loc[intermediary_states_comparison_df[\"State\"] == \"California\", columns]\n",
    "california_group_1 = california_df[california_df[\"Age Groups\"] == \"Younger than 55\"][\"COVID-19 Deaths\"]\n",
    "california_group_2 = california_df[california_df[\"Age Groups\"] == \"Between 55 and 64\"][\"COVID-19 Deaths\"]\n",
    "california_group_3 = california_df[california_df[\"Age Groups\"] == \"65 and Older\"][\"COVID-19 Deaths\"]\n",
    "connecticut_df = intermediary_states_comparison_df.loc[intermediary_states_comparison_df[\"State\"] == \"Connecticut\", columns]\n",
    "connecticut_group_1 = connecticut_df[connecticut_df[\"Age Groups\"] == \"Younger than 55\"][\"COVID-19 Deaths\"]\n",
    "connecticut_group_2 = connecticut_df[connecticut_df[\"Age Groups\"] == \"Between 55 and 64\"][\"COVID-19 Deaths\"]\n",
    "connecticut_group_3 = connecticut_df[connecticut_df[\"Age Groups\"] == \"65 and Older\"][\"COVID-19 Deaths\"]\n",
    "virginia_df = intermediary_states_comparison_df.loc[intermediary_states_comparison_df[\"State\"] == \"Virginia\", columns]\n",
    "virginia_group_1 = virginia_df[virginia_df[\"Age Groups\"] == \"Younger than 55\"][\"COVID-19 Deaths\"]\n",
    "virginia_group_2 = virginia_df[virginia_df[\"Age Groups\"] == \"Between 55 and 64\"][\"COVID-19 Deaths\"]\n",
    "virginia_group_3 = virginia_df[virginia_df[\"Age Groups\"] == \"65 and Older\"][\"COVID-19 Deaths\"]\n",
    "florida_df = intermediary_states_comparison_df.loc[intermediary_states_comparison_df[\"State\"] == \"Florida\", columns]\n",
    "florida_group_1 = florida_df[florida_df[\"Age Groups\"] == \"Younger than 55\"][\"COVID-19 Deaths\"]\n",
    "florida_group_2 = florida_df[florida_df[\"Age Groups\"] == \"Between 55 and 64\"][\"COVID-19 Deaths\"]\n",
    "florida_group_3 = florida_df[florida_df[\"Age Groups\"] == \"65 and Older\"][\"COVID-19 Deaths\"]\n",
    "georgia_df = intermediary_states_comparison_df.loc[intermediary_states_comparison_df[\"State\"] == \"Georgia\", columns]\n",
    "georgia_group_1 = georgia_df[georgia_df[\"Age Groups\"] == \"Younger than 55\"][\"COVID-19 Deaths\"]\n",
    "georgia_group_2 = georgia_df[georgia_df[\"Age Groups\"] == \"Between 55 and 64\"][\"COVID-19 Deaths\"]\n",
    "georgia_group_3 = georgia_df[georgia_df[\"Age Groups\"] == \"65 and Older\"][\"COVID-19 Deaths\"]\n",
    "united_states_df = intermediary_states_comparison_df.loc[intermediary_states_comparison_df[\"State\"] == \"United States\", columns]\n",
    "united_states_group_1 = united_states_df[united_states_df[\"Age Groups\"] == \"Younger than 55\"][\"COVID-19 Deaths\"]\n",
    "united_states_group_2 = united_states_df[united_states_df[\"Age Groups\"] == \"Between 55 and 64\"][\"COVID-19 Deaths\"]\n",
    "united_states_group_3 = united_states_df[united_states_df[\"Age Groups\"] == \"65 and Older\"][\"COVID-19 Deaths\"]\n",
    "\n",
    "print(states.f_oneway(california_group_1, california_group_2, california_group_3))\n",
    "print(states.f_oneway(connecticut_group_1, connecticut_group_2, connecticut_group_3))\n",
    "print(states.f_oneway(virginia_group_1, virginia_group_2, virginia_group_3))\n",
    "print(states.f_oneway(florida_group_1, florida_group_2, florida_group_3))\n",
    "print(states.f_oneway(georgia_group_1, georgia_group_2, georgia_group_3))\n",
    "print(states.f_oneway(united_states_group_1, united_states_group_2, united_states_group_3))"
   ]
  },
  {
   "cell_type": "code",
   "execution_count": 16,
   "metadata": {
    "tags": []
   },
   "outputs": [
    {
     "output_type": "error",
     "ename": "NameError",
     "evalue": "name 'intermediary_states_comparison_df' is not defined",
     "traceback": [
      "\u001b[0;31m---------------------------------------------------------------------------\u001b[0m",
      "\u001b[0;31mNameError\u001b[0m                                 Traceback (most recent call last)",
      "\u001b[0;32m<ipython-input-16-49f1fdb5615e>\u001b[0m in \u001b[0;36m<module>\u001b[0;34m\u001b[0m\n\u001b[1;32m      3\u001b[0m \u001b[0mindex\u001b[0m \u001b[0;34m=\u001b[0m \u001b[0;34m[\u001b[0m\u001b[0;34m\"Younger than 55\"\u001b[0m\u001b[0;34m,\u001b[0m \u001b[0;34m\"Between 55 and 64\"\u001b[0m\u001b[0;34m,\u001b[0m \u001b[0;34m\"65 and Older\"\u001b[0m\u001b[0;34m]\u001b[0m\u001b[0;34m\u001b[0m\u001b[0;34m\u001b[0m\u001b[0m\n\u001b[1;32m      4\u001b[0m \u001b[0;34m\u001b[0m\u001b[0m\n\u001b[0;32m----> 5\u001b[0;31m \u001b[0mcalifornia_df\u001b[0m \u001b[0;34m=\u001b[0m \u001b[0mintermediary_states_comparison_df\u001b[0m\u001b[0;34m.\u001b[0m\u001b[0mloc\u001b[0m\u001b[0;34m[\u001b[0m\u001b[0mintermediary_states_comparison_df\u001b[0m\u001b[0;34m[\u001b[0m\u001b[0;34m\"State\"\u001b[0m\u001b[0;34m]\u001b[0m \u001b[0;34m==\u001b[0m \u001b[0;34m\"California\"\u001b[0m\u001b[0;34m,\u001b[0m \u001b[0mcolumns\u001b[0m\u001b[0;34m]\u001b[0m\u001b[0;34m\u001b[0m\u001b[0;34m\u001b[0m\u001b[0m\n\u001b[0m\u001b[1;32m      6\u001b[0m \u001b[0mcalifornia_age_group\u001b[0m \u001b[0;34m=\u001b[0m \u001b[0mcalifornia_df\u001b[0m\u001b[0;34m.\u001b[0m\u001b[0mgroupby\u001b[0m\u001b[0;34m(\u001b[0m\u001b[0;34m\"Age Groups\"\u001b[0m\u001b[0;34m)\u001b[0m\u001b[0;34m\u001b[0m\u001b[0;34m\u001b[0m\u001b[0m\n\u001b[1;32m      7\u001b[0m \u001b[0mtotal_california\u001b[0m \u001b[0;34m=\u001b[0m \u001b[0mcalifornia_age_group\u001b[0m\u001b[0;34m[\u001b[0m\u001b[0;34m\"COVID-19 Deaths\"\u001b[0m\u001b[0;34m]\u001b[0m\u001b[0;34m.\u001b[0m\u001b[0msum\u001b[0m\u001b[0;34m(\u001b[0m\u001b[0;34m)\u001b[0m\u001b[0;34m\u001b[0m\u001b[0;34m\u001b[0m\u001b[0m\n",
      "\u001b[0;31mNameError\u001b[0m: name 'intermediary_states_comparison_df' is not defined"
     ]
    }
   ],
   "source": [
    "# Creating a table for comparing the total cases of all the states with the whole United States based on age groups. \n",
    "columns = [\"State\", \"Age Groups\", \"COVID-19 Deaths\"]\n",
    "index = [\"Younger than 55\", \"Between 55 and 64\", \"65 and Older\"]\n",
    "\n",
    "california_df = intermediary_states_comparison_df.loc[intermediary_states_comparison_df[\"State\"] == \"California\", columns]\n",
    "california_age_group = california_df.groupby(\"Age Groups\")\n",
    "total_california = california_age_group[\"COVID-19 Deaths\"].sum()\n",
    "connecticut_df = intermediary_states_comparison_df.loc[intermediary_states_comparison_df[\"State\"] == \"Connecticut\", columns]\n",
    "connecticut_age_group = connecticut_df.groupby(\"Age Groups\")\n",
    "total_connecticut = connecticut_age_group[\"COVID-19 Deaths\"].sum()\n",
    "virginia_df = intermediary_states_comparison_df.loc[intermediary_states_comparison_df[\"State\"] == \"Virginia\", columns]\n",
    "virginia_age_group = virginia_df.groupby(\"Age Groups\")\n",
    "total_virginia = virginia_age_group[\"COVID-19 Deaths\"].sum()\n",
    "florida_df = intermediary_states_comparison_df.loc[intermediary_states_comparison_df[\"State\"] == \"Florida\", columns]\n",
    "florida_age_group = florida_df.groupby(\"Age Groups\")\n",
    "total_florida = florida_age_group[\"COVID-19 Deaths\"].sum()\n",
    "georgia_df = intermediary_states_comparison_df.loc[intermediary_states_comparison_df[\"State\"] == \"Georgia\", columns]\n",
    "georgia_age_group = georgia_df.groupby(\"Age Groups\")\n",
    "total_georgia = georgia_age_group[\"COVID-19 Deaths\"].sum()\n",
    "united_states_df = intermediary_states_comparison_df.loc[intermediary_states_comparison_df[\"State\"] == \"United States\", columns]\n",
    "united_states_age_group = united_states_df.groupby(\"Age Groups\")\n",
    "total_united_states = united_states_age_group[\"COVID-19 Deaths\"].sum()\n",
    "\n",
    "raw_total_overall_report = pd.DataFrame({\"California COVID-19 Total Deaths\": total_california,\n",
    "                                         \"Connecticut COVID-19 Total Deaths\": total_connecticut,\n",
    "                                         \"Virginia COVID-19 Total Deaths\": total_virginia,\n",
    "                                         \"Florida COVID-19 Total Deaths\": total_florida,\n",
    "                                         \"Georgia COVID-19 Total Deaths\": total_georgia,\n",
    "                                         \"Overall U.S. COVID-19 Total Deaths\": total_united_states},\n",
    "                                         index=index)\n",
    "\n",
    "total_overall_report = raw_total_overall_report.style.format({\"California COVID-19 Total Deaths\": (\"{:.0f}\"),\n",
    "                                                              \"Connecticut COVID-19 Total Deaths\": (\"{:.0f}\"),\n",
    "                                                              \"Virginia COVID-19 Total Deaths\": (\"{:.0f}\"),\n",
    "                                                              \"Florida COVID-19 Total Deaths\": (\"{:.0f}\"),\n",
    "                                                              \"Georgia COVID-19 Total Deaths\": (\"{:.0f}\"),\n",
    "                                                              \"Overall U.S. COVID-19 Total Deaths\": (\"{:.0f}\")\n",
    "                                                             })\n",
    "\n",
    "\n",
    "bold_start = '\\033[1m'\n",
    "print(bold_start, \"Overall Report: From February 2nd to July 4th, 2020\")\n",
    "total_overall_report"
   ]
  },
  {
   "cell_type": "code",
   "execution_count": 17,
   "metadata": {
    "tags": []
   },
   "outputs": [
    {
     "output_type": "error",
     "ename": "NameError",
     "evalue": "name 'raw_total_overall_report' is not defined",
     "traceback": [
      "\u001b[0;31m---------------------------------------------------------------------------\u001b[0m",
      "\u001b[0;31mNameError\u001b[0m                                 Traceback (most recent call last)",
      "\u001b[0;32m<ipython-input-17-70be9fc5c5dd>\u001b[0m in \u001b[0;36m<module>\u001b[0;34m\u001b[0m\n\u001b[1;32m      1\u001b[0m \u001b[0;31m# Measuring the correlation coefficient and caluclating the equation tracing the relation between each state and the United States.\u001b[0m\u001b[0;34m\u001b[0m\u001b[0;34m\u001b[0m\u001b[0;34m\u001b[0m\u001b[0m\n\u001b[0;32m----> 2\u001b[0;31m \u001b[0mcalifornia_deaths_list\u001b[0m \u001b[0;34m=\u001b[0m \u001b[0mlist\u001b[0m\u001b[0;34m(\u001b[0m\u001b[0mraw_total_overall_report\u001b[0m\u001b[0;34m[\u001b[0m\u001b[0;34m\"California COVID-19 Total Deaths\"\u001b[0m\u001b[0;34m]\u001b[0m\u001b[0;34m)\u001b[0m\u001b[0;34m\u001b[0m\u001b[0;34m\u001b[0m\u001b[0m\n\u001b[0m\u001b[1;32m      3\u001b[0m \u001b[0mconnecticut_deaths_list\u001b[0m \u001b[0;34m=\u001b[0m \u001b[0mlist\u001b[0m\u001b[0;34m(\u001b[0m\u001b[0mraw_total_overall_report\u001b[0m\u001b[0;34m[\u001b[0m\u001b[0;34m\"Connecticut COVID-19 Total Deaths\"\u001b[0m\u001b[0;34m]\u001b[0m\u001b[0;34m)\u001b[0m\u001b[0;34m\u001b[0m\u001b[0;34m\u001b[0m\u001b[0m\n\u001b[1;32m      4\u001b[0m \u001b[0mvirginia_deaths_list\u001b[0m \u001b[0;34m=\u001b[0m \u001b[0mlist\u001b[0m\u001b[0;34m(\u001b[0m\u001b[0mraw_total_overall_report\u001b[0m\u001b[0;34m[\u001b[0m\u001b[0;34m\"Virginia COVID-19 Total Deaths\"\u001b[0m\u001b[0;34m]\u001b[0m\u001b[0;34m)\u001b[0m\u001b[0;34m\u001b[0m\u001b[0;34m\u001b[0m\u001b[0m\n\u001b[1;32m      5\u001b[0m \u001b[0mflorida_deaths_list\u001b[0m \u001b[0;34m=\u001b[0m \u001b[0mlist\u001b[0m\u001b[0;34m(\u001b[0m\u001b[0mraw_total_overall_report\u001b[0m\u001b[0;34m[\u001b[0m\u001b[0;34m\"Florida COVID-19 Total Deaths\"\u001b[0m\u001b[0;34m]\u001b[0m\u001b[0;34m)\u001b[0m\u001b[0;34m\u001b[0m\u001b[0;34m\u001b[0m\u001b[0m\n",
      "\u001b[0;31mNameError\u001b[0m: name 'raw_total_overall_report' is not defined"
     ]
    }
   ],
   "source": [
    "# Measuring the correlation coefficient and caluclating the equation tracing the relation between each state and the United States.\n",
    "california_deaths_list = list(raw_total_overall_report[\"California COVID-19 Total Deaths\"])\n",
    "connecticut_deaths_list = list(raw_total_overall_report[\"Connecticut COVID-19 Total Deaths\"])\n",
    "virginia_deaths_list = list(raw_total_overall_report[\"Virginia COVID-19 Total Deaths\"])\n",
    "florida_deaths_list = list(raw_total_overall_report[\"Florida COVID-19 Total Deaths\"])\n",
    "georgia_deaths_list = list(raw_total_overall_report[\"Georgia COVID-19 Total Deaths\"])\n",
    "overall_US_deaths_list = list(raw_total_overall_report[\"Overall U.S. COVID-19 Total Deaths\"])\n",
    "\n",
    "bold_start = '\\033[1m'\n",
    "back_to_normal = '\\033[0m'\n",
    "print(f\"The correlation coefficient between the COVID-19 California deaths and the U.S COVID-19 deaths overall is of:{bold_start} {round(states.pearsonr (california_deaths_list, overall_US_deaths_list)[0],2)}{back_to_normal}.\")\n",
    "print(f\"The correlation coefficient between the COVID-19 Connecticut deaths and the U.S COVID-19 deaths overall is of:{bold_start} {round(states.pearsonr (connecticut_deaths_list, overall_US_deaths_list)[0],2)}{back_to_normal}.\")\n",
    "print(f\"The correlation coefficient between the COVID-19 Virginia deaths and the U.S COVID-19 deaths overall is of:{bold_start} {round(states.pearsonr (virginia_deaths_list, overall_US_deaths_list)[0],2)}{back_to_normal}.\")\n",
    "print(f\"The correlation coefficient between the COVID-19 Florida deaths and the U.S COVID-19 deaths overall is of:{bold_start} {round(states.pearsonr (florida_deaths_list, overall_US_deaths_list)[0],2)}{back_to_normal}.\")\n",
    "print(f\"The correlation coefficient between the COVID-19 Georgia deaths and the U.S COVID-19 deaths overall is of:{bold_start} {round(states.pearsonr (georgia_deaths_list, overall_US_deaths_list)[0],2)}{back_to_normal}.\")\n",
    "print(\"-------------------------------------------------------------------------------------------------------------------\")\n",
    "\n",
    "ca_slope, ca_int, ca_r, ca_p, ca_stderr = states.linregress(overall_US_deaths_list, california_deaths_list)\n",
    "california_equation = \"y = \" + str(round(ca_slope,2)) + \"x + \" + str(round(ca_int,2))\n",
    "ct_slope, ct_int, ct_r, ct_p, ct_stderr = states.linregress(overall_US_deaths_list, connecticut_deaths_list)\n",
    "connecticut_equation = \"y = \" + str(round(ct_slope,2)) + \"x - \" + str(abs(round(ct_int,2)))\n",
    "va_slope, va_int, va_r, va_p, va_stderr = states.linregress(overall_US_deaths_list, virginia_deaths_list)\n",
    "virginia_equation = \"y = \" + str(round(va_slope,2)) + \"x - \" + str(abs(round(va_int,2)))\n",
    "fl_slope, fl_int, fl_r, fl_p, fl_stderr = states.linregress(overall_US_deaths_list, florida_deaths_list)\n",
    "florida_equation = \"y = \" + str(round(fl_slope,2)) + \"x - \" + str(abs(round(fl_int,2)))\n",
    "ga_slope, ga_int, ga_r, ga_p, ga_stderr = states.linregress(overall_US_deaths_list, georgia_deaths_list)\n",
    "georgia_equation  = \"y = \" + str(round(ga_slope,2)) + \"x + \" + str(round(ga_int,2))\n",
    "\n",
    "print(f\"The equation of the linear regression model depicting the relationship between the COVID-19 California deaths and the U.S COVID-19 deaths overall is of:\")\n",
    "print(f\"{bold_start}{california_equation}{back_to_normal}\")\n",
    "print(f\"The equation of the linear regression model depicting the relationship between the COVID-19 Connecticut deaths and the U.S COVID-19 deaths overall is of:\")\n",
    "print(f\"{bold_start}{connecticut_equation}{back_to_normal}\")\n",
    "print(f\"The equation of the linear regression model depicting the relationship between the COVID-19 Virginia deaths and the U.S COVID-19 deaths overall is of:\")\n",
    "print(f\"{bold_start}{virginia_equation}{back_to_normal}\")\n",
    "print(f\"The equation of the linear regression model depicting the relationship between the COVID-19 Florida deaths and the U.S COVID-19 deaths overall is of:\")\n",
    "print(f\"{bold_start}{florida_equation}{back_to_normal}\")\n",
    "print(f\"The equation of the linear regression model depicting the relationship between the COVID-19 Georgia deaths and the U.S COVID-19 deaths overall is of:\")\n",
    "print(f\"{bold_start}{georgia_equation}{back_to_normal}\")"
   ]
  },
  {
   "cell_type": "code",
   "execution_count": 18,
   "metadata": {
    "tags": []
   },
   "outputs": [
    {
     "output_type": "error",
     "ename": "NameError",
     "evalue": "name 'california_df' is not defined",
     "traceback": [
      "\u001b[0;31m---------------------------------------------------------------------------\u001b[0m",
      "\u001b[0;31mNameError\u001b[0m                                 Traceback (most recent call last)",
      "\u001b[0;32m<ipython-input-18-3a3ea7460924>\u001b[0m in \u001b[0;36m<module>\u001b[0;34m\u001b[0m\n\u001b[1;32m     20\u001b[0m     \u001b[0;32mreturn\u001b[0m \u001b[0mpopulation1\u001b[0m\u001b[0;34m,\u001b[0m \u001b[0mpopulation2\u001b[0m\u001b[0;34m\u001b[0m\u001b[0;34m\u001b[0m\u001b[0m\n\u001b[1;32m     21\u001b[0m \u001b[0;34m\u001b[0m\u001b[0m\n\u001b[0;32m---> 22\u001b[0;31m \u001b[0mcalifornia_deaths_list\u001b[0m\u001b[0;34m,\u001b[0m \u001b[0moverall_US_deaths_list\u001b[0m \u001b[0;34m=\u001b[0m \u001b[0mgendata\u001b[0m\u001b[0;34m(\u001b[0m\u001b[0mloc1\u001b[0m\u001b[0;34m=\u001b[0m\u001b[0;36m0\u001b[0m\u001b[0;34m,\u001b[0m \u001b[0mloc2\u001b[0m\u001b[0;34m=\u001b[0m\u001b[0;36m0\u001b[0m\u001b[0;34m)\u001b[0m\u001b[0;34m\u001b[0m\u001b[0;34m\u001b[0m\u001b[0m\n\u001b[0m\u001b[1;32m     23\u001b[0m \u001b[0mprint\u001b[0m\u001b[0;34m(\u001b[0m\u001b[0mstates\u001b[0m\u001b[0;34m.\u001b[0m\u001b[0mttest_ind\u001b[0m\u001b[0;34m(\u001b[0m\u001b[0mcalifornia_deaths_list\u001b[0m\u001b[0;34m,\u001b[0m \u001b[0moverall_US_deaths_list\u001b[0m\u001b[0;34m,\u001b[0m \u001b[0mequal_var\u001b[0m\u001b[0;34m=\u001b[0m\u001b[0;32mFalse\u001b[0m\u001b[0;34m)\u001b[0m\u001b[0;34m)\u001b[0m\u001b[0;34m\u001b[0m\u001b[0;34m\u001b[0m\u001b[0m\n\u001b[1;32m     24\u001b[0m \u001b[0mconnecticut_deaths_list\u001b[0m\u001b[0;34m,\u001b[0m \u001b[0moverall_US_deaths_list\u001b[0m \u001b[0;34m=\u001b[0m \u001b[0mgendata1\u001b[0m\u001b[0;34m(\u001b[0m\u001b[0mloc1\u001b[0m\u001b[0;34m=\u001b[0m\u001b[0;36m0\u001b[0m\u001b[0;34m,\u001b[0m \u001b[0mloc2\u001b[0m\u001b[0;34m=\u001b[0m\u001b[0;36m0\u001b[0m\u001b[0;34m)\u001b[0m\u001b[0;34m\u001b[0m\u001b[0;34m\u001b[0m\u001b[0m\n",
      "\u001b[0;32m<ipython-input-18-3a3ea7460924>\u001b[0m in \u001b[0;36mgendata\u001b[0;34m(loc1, loc2)\u001b[0m\n\u001b[1;32m      1\u001b[0m \u001b[0;32mdef\u001b[0m \u001b[0mgendata\u001b[0m\u001b[0;34m(\u001b[0m\u001b[0mloc1\u001b[0m\u001b[0;34m=\u001b[0m\u001b[0;36m0\u001b[0m\u001b[0;34m,\u001b[0m \u001b[0mloc2\u001b[0m\u001b[0;34m=\u001b[0m\u001b[0;36m0\u001b[0m\u001b[0;34m)\u001b[0m\u001b[0;34m:\u001b[0m\u001b[0;34m\u001b[0m\u001b[0;34m\u001b[0m\u001b[0m\n\u001b[0;32m----> 2\u001b[0;31m     \u001b[0mpopulation1\u001b[0m \u001b[0;34m=\u001b[0m \u001b[0mstates\u001b[0m\u001b[0;34m.\u001b[0m\u001b[0mnorm\u001b[0m\u001b[0;34m.\u001b[0m\u001b[0mrvs\u001b[0m\u001b[0;34m(\u001b[0m\u001b[0mloc\u001b[0m\u001b[0;34m=\u001b[0m\u001b[0mloc1\u001b[0m\u001b[0;34m,\u001b[0m \u001b[0msize\u001b[0m\u001b[0;34m=\u001b[0m\u001b[0mlen\u001b[0m\u001b[0;34m(\u001b[0m\u001b[0mcalifornia_df\u001b[0m\u001b[0;34m)\u001b[0m\u001b[0;34m,\u001b[0m \u001b[0mrandom_state\u001b[0m\u001b[0;34m=\u001b[0m\u001b[0mlen\u001b[0m\u001b[0;34m(\u001b[0m\u001b[0mcalifornia_df\u001b[0m\u001b[0;34m)\u001b[0m\u001b[0;34m)\u001b[0m\u001b[0;34m\u001b[0m\u001b[0;34m\u001b[0m\u001b[0m\n\u001b[0m\u001b[1;32m      3\u001b[0m     \u001b[0mpopulation2\u001b[0m \u001b[0;34m=\u001b[0m \u001b[0mstates\u001b[0m\u001b[0;34m.\u001b[0m\u001b[0mnorm\u001b[0m\u001b[0;34m.\u001b[0m\u001b[0mrvs\u001b[0m\u001b[0;34m(\u001b[0m\u001b[0mloc\u001b[0m\u001b[0;34m=\u001b[0m\u001b[0mloc2\u001b[0m\u001b[0;34m,\u001b[0m \u001b[0msize\u001b[0m\u001b[0;34m=\u001b[0m\u001b[0mlen\u001b[0m\u001b[0;34m(\u001b[0m\u001b[0munited_states_df\u001b[0m\u001b[0;34m)\u001b[0m\u001b[0;34m,\u001b[0m \u001b[0mrandom_state\u001b[0m\u001b[0;34m=\u001b[0m\u001b[0mlen\u001b[0m\u001b[0;34m(\u001b[0m\u001b[0munited_states_df\u001b[0m\u001b[0;34m)\u001b[0m\u001b[0;34m)\u001b[0m\u001b[0;34m\u001b[0m\u001b[0;34m\u001b[0m\u001b[0m\n\u001b[1;32m      4\u001b[0m     \u001b[0;32mreturn\u001b[0m \u001b[0mpopulation1\u001b[0m\u001b[0;34m,\u001b[0m \u001b[0mpopulation2\u001b[0m\u001b[0;34m\u001b[0m\u001b[0;34m\u001b[0m\u001b[0m\n\u001b[1;32m      5\u001b[0m \u001b[0;32mdef\u001b[0m \u001b[0mgendata1\u001b[0m\u001b[0;34m(\u001b[0m\u001b[0mloc1\u001b[0m\u001b[0;34m=\u001b[0m\u001b[0;36m0\u001b[0m\u001b[0;34m,\u001b[0m \u001b[0mloc2\u001b[0m\u001b[0;34m=\u001b[0m\u001b[0;36m0\u001b[0m\u001b[0;34m)\u001b[0m\u001b[0;34m:\u001b[0m\u001b[0;34m\u001b[0m\u001b[0;34m\u001b[0m\u001b[0m\n",
      "\u001b[0;31mNameError\u001b[0m: name 'california_df' is not defined"
     ]
    }
   ],
   "source": [
    "def gendata(loc1=0, loc2=0):\n",
    "    population1 = states.norm.rvs(loc=loc1, size=len(california_df), random_state=len(california_df))\n",
    "    population2 = states.norm.rvs(loc=loc2, size=len(united_states_df), random_state=len(united_states_df))\n",
    "    return population1, population2\n",
    "def gendata1(loc1=0, loc2=0):\n",
    "    population1 = states.norm.rvs(loc=loc1, size=len(connecticut_df), random_state=len(connecticut_df))\n",
    "    population2 = states.norm.rvs(loc=loc2, size=len(united_states_df), random_state=len(united_states_df))\n",
    "    return population1, population2\n",
    "def gendata2(loc1=0, loc2=0):\n",
    "    population1 = states.norm.rvs(loc=loc1, size=len(virginia_df), random_state=len(virginia_df))\n",
    "    population2 = states.norm.rvs(loc=loc2, size=len(united_states_df), random_state=len(united_states_df))\n",
    "    return population1, population2\n",
    "def gendata3(loc1=0, loc2=0):\n",
    "    population1 = states.norm.rvs(loc=loc1, size=len(florida_df), random_state=len(florida_df))\n",
    "    population2 = states.norm.rvs(loc=loc2, size=len(united_states_df), random_state=len(united_states_df))\n",
    "    return population1, population2\n",
    "def gendata4(loc1=0, loc2=0):\n",
    "    population1 = states.norm.rvs(loc=loc1, size=len(georgia_df), random_state=len(georgia_df))\n",
    "    population2 = states.norm.rvs(loc=loc2, size=len(united_states_df), random_state=len(united_states_df))\n",
    "    return population1, population2\n",
    "\n",
    "california_deaths_list, overall_US_deaths_list = gendata(loc1=0, loc2=0)\n",
    "print(states.ttest_ind(california_deaths_list, overall_US_deaths_list, equal_var=False))\n",
    "connecticut_deaths_list, overall_US_deaths_list = gendata1(loc1=0, loc2=0)\n",
    "print(states.ttest_ind(connecticut_deaths_list, overall_US_deaths_list, equal_var=False))\n",
    "virginia_deaths_list, overall_US_deaths_list = gendata2(loc1=0, loc2=0)\n",
    "print(states.ttest_ind(virginia_deaths_list, overall_US_deaths_list, equal_var=False))\n",
    "florida_deaths_list, overall_US_deaths_list = gendata3(loc1=0, loc2=0)\n",
    "print(states.ttest_ind(florida_deaths_list, overall_US_deaths_list, equal_var=False))\n",
    "georgia_deaths_list, overall_US_deaths_list = gendata4(loc1=0, loc2=0)\n",
    "print(states.ttest_ind(georgia_deaths_list, overall_US_deaths_list, equal_var=False))"
   ]
  },
  {
   "cell_type": "code",
   "execution_count": 19,
   "metadata": {
    "tags": []
   },
   "outputs": [
    {
     "output_type": "stream",
     "name": "stdout",
     "text": "9.487729036781154\n"
    },
    {
     "output_type": "error",
     "ename": "NameError",
     "evalue": "name 'raw_total_overall_report' is not defined",
     "traceback": [
      "\u001b[0;31m---------------------------------------------------------------------------\u001b[0m",
      "\u001b[0;31mNameError\u001b[0m                                 Traceback (most recent call last)",
      "\u001b[0;32m<ipython-input-19-73d59825b492>\u001b[0m in \u001b[0;36m<module>\u001b[0;34m\u001b[0m\n\u001b[1;32m      2\u001b[0m \u001b[0mprint\u001b[0m\u001b[0;34m(\u001b[0m\u001b[0mcritical_value\u001b[0m\u001b[0;34m)\u001b[0m\u001b[0;34m\u001b[0m\u001b[0;34m\u001b[0m\u001b[0m\n\u001b[1;32m      3\u001b[0m \u001b[0;34m\u001b[0m\u001b[0m\n\u001b[0;32m----> 4\u001b[0;31m \u001b[0mprint\u001b[0m\u001b[0;34m(\u001b[0m\u001b[0mstates\u001b[0m\u001b[0;34m.\u001b[0m\u001b[0mchisquare\u001b[0m\u001b[0;34m(\u001b[0m\u001b[0mraw_total_overall_report\u001b[0m\u001b[0;34m[\u001b[0m\u001b[0;34m\"California COVID-19 Total Deaths\"\u001b[0m\u001b[0;34m]\u001b[0m\u001b[0;34m,\u001b[0m \u001b[0mraw_total_overall_report\u001b[0m\u001b[0;34m[\u001b[0m\u001b[0;34m\"Overall U.S. COVID-19 Total Deaths\"\u001b[0m\u001b[0;34m]\u001b[0m\u001b[0;34m)\u001b[0m\u001b[0;34m)\u001b[0m\u001b[0;34m\u001b[0m\u001b[0;34m\u001b[0m\u001b[0m\n\u001b[0m\u001b[1;32m      5\u001b[0m \u001b[0mprint\u001b[0m\u001b[0;34m(\u001b[0m\u001b[0mstates\u001b[0m\u001b[0;34m.\u001b[0m\u001b[0mchisquare\u001b[0m\u001b[0;34m(\u001b[0m\u001b[0mraw_total_overall_report\u001b[0m\u001b[0;34m[\u001b[0m\u001b[0;34m\"Connecticut COVID-19 Total Deaths\"\u001b[0m\u001b[0;34m]\u001b[0m\u001b[0;34m,\u001b[0m \u001b[0mraw_total_overall_report\u001b[0m\u001b[0;34m[\u001b[0m\u001b[0;34m\"Overall U.S. COVID-19 Total Deaths\"\u001b[0m\u001b[0;34m]\u001b[0m\u001b[0;34m)\u001b[0m\u001b[0;34m)\u001b[0m\u001b[0;34m\u001b[0m\u001b[0;34m\u001b[0m\u001b[0m\n\u001b[1;32m      6\u001b[0m \u001b[0mprint\u001b[0m\u001b[0;34m(\u001b[0m\u001b[0mstates\u001b[0m\u001b[0;34m.\u001b[0m\u001b[0mchisquare\u001b[0m\u001b[0;34m(\u001b[0m\u001b[0mraw_total_overall_report\u001b[0m\u001b[0;34m[\u001b[0m\u001b[0;34m\"Virginia COVID-19 Total Deaths\"\u001b[0m\u001b[0;34m]\u001b[0m\u001b[0;34m,\u001b[0m \u001b[0mraw_total_overall_report\u001b[0m\u001b[0;34m[\u001b[0m\u001b[0;34m\"Overall U.S. COVID-19 Total Deaths\"\u001b[0m\u001b[0;34m]\u001b[0m\u001b[0;34m)\u001b[0m\u001b[0;34m)\u001b[0m\u001b[0;34m\u001b[0m\u001b[0;34m\u001b[0m\u001b[0m\n",
      "\u001b[0;31mNameError\u001b[0m: name 'raw_total_overall_report' is not defined"
     ]
    }
   ],
   "source": [
    "critical_value = states.chi2.ppf(q = 0.95, df = 4)\n",
    "print(critical_value)\n",
    "\n",
    "print(states.chisquare(raw_total_overall_report[\"California COVID-19 Total Deaths\"], raw_total_overall_report[\"Overall U.S. COVID-19 Total Deaths\"]))\n",
    "print(states.chisquare(raw_total_overall_report[\"Connecticut COVID-19 Total Deaths\"], raw_total_overall_report[\"Overall U.S. COVID-19 Total Deaths\"]))\n",
    "print(states.chisquare(raw_total_overall_report[\"Virginia COVID-19 Total Deaths\"], raw_total_overall_report[\"Overall U.S. COVID-19 Total Deaths\"]))\n",
    "print(states.chisquare(raw_total_overall_report[\"Florida COVID-19 Total Deaths\"], raw_total_overall_report[\"Overall U.S. COVID-19 Total Deaths\"]))\n",
    "print(states.chisquare(raw_total_overall_report[\"Georgia COVID-19 Total Deaths\"], raw_total_overall_report[\"Overall U.S. COVID-19 Total Deaths\"]))"
   ]
  },
  {
   "cell_type": "code",
   "execution_count": 20,
   "metadata": {},
   "outputs": [
    {
     "output_type": "error",
     "ename": "NameError",
     "evalue": "name 'raw_total_overall_report' is not defined",
     "traceback": [
      "\u001b[0;31m---------------------------------------------------------------------------\u001b[0m",
      "\u001b[0;31mNameError\u001b[0m                                 Traceback (most recent call last)",
      "\u001b[0;32m<ipython-input-20-38ec86eb0d61>\u001b[0m in \u001b[0;36m<module>\u001b[0;34m\u001b[0m\n\u001b[0;32m----> 1\u001b[0;31m \u001b[0mraw_total_transposed\u001b[0m \u001b[0;34m=\u001b[0m \u001b[0mraw_total_overall_report\u001b[0m\u001b[0;34m.\u001b[0m\u001b[0mtranspose\u001b[0m\u001b[0;34m(\u001b[0m\u001b[0;34m)\u001b[0m\u001b[0;34m\u001b[0m\u001b[0;34m\u001b[0m\u001b[0m\n\u001b[0m\u001b[1;32m      2\u001b[0m States_list = [\"California COVID-19 Total Deaths\", \"Connecticut COVID-19 Total Deaths\", \"Virginia COVID-19 Total Deaths\",\n\u001b[1;32m      3\u001b[0m                \"Florida COVID-19 Total\", \"Georgia COVID-19 Total Deaths\", \"Overall U.S. COVID-19 Total Deaths\"]\n\u001b[1;32m      4\u001b[0m \u001b[0mraw_total_transposed\u001b[0m\u001b[0;34m[\u001b[0m\u001b[0;34m\"States COVID-19 Total Deaths\"\u001b[0m\u001b[0;34m]\u001b[0m \u001b[0;34m=\u001b[0m \u001b[0mStates_list\u001b[0m\u001b[0;34m\u001b[0m\u001b[0;34m\u001b[0m\u001b[0m\n\u001b[1;32m      5\u001b[0m \u001b[0mraw_total_transposed\u001b[0m \u001b[0;34m=\u001b[0m \u001b[0mraw_total_transposed\u001b[0m\u001b[0;34m.\u001b[0m\u001b[0mreset_index\u001b[0m\u001b[0;34m(\u001b[0m\u001b[0;34m)\u001b[0m\u001b[0;34m\u001b[0m\u001b[0;34m\u001b[0m\u001b[0m\n",
      "\u001b[0;31mNameError\u001b[0m: name 'raw_total_overall_report' is not defined"
     ]
    }
   ],
   "source": [
    "raw_total_transposed = raw_total_overall_report.transpose()\n",
    "States_list = [\"California COVID-19 Total Deaths\", \"Connecticut COVID-19 Total Deaths\", \"Virginia COVID-19 Total Deaths\",\n",
    "               \"Florida COVID-19 Total\", \"Georgia COVID-19 Total Deaths\", \"Overall U.S. COVID-19 Total Deaths\"]\n",
    "raw_total_transposed[\"States COVID-19 Total Deaths\"] = States_list\n",
    "raw_total_transposed = raw_total_transposed.reset_index()\n",
    "del raw_total_transposed[\"index\"]\n",
    "total_transposed = raw_total_transposed[[\"States COVID-19 Total Deaths\", \"Younger than 55\", \"Between 55 and 64\", \"65 and Older\"]]\n",
    "states_transposed = total_transposed.drop(total_transposed.index[5])"
   ]
  },
  {
   "cell_type": "code",
   "execution_count": 21,
   "metadata": {},
   "outputs": [
    {
     "output_type": "error",
     "ename": "NameError",
     "evalue": "name 'states_transposed' is not defined",
     "traceback": [
      "\u001b[0;31m---------------------------------------------------------------------------\u001b[0m",
      "\u001b[0;31mNameError\u001b[0m                                 Traceback (most recent call last)",
      "\u001b[0;32m<ipython-input-21-5fd28d4ebff7>\u001b[0m in \u001b[0;36m<module>\u001b[0;34m\u001b[0m\n\u001b[0;32m----> 1\u001b[0;31m \u001b[0mmulti_plots\u001b[0m \u001b[0;34m=\u001b[0m \u001b[0mstates_transposed\u001b[0m\u001b[0;34m.\u001b[0m\u001b[0mplot\u001b[0m\u001b[0;34m(\u001b[0m\u001b[0mkind\u001b[0m\u001b[0;34m=\u001b[0m\u001b[0;34m\"bar\"\u001b[0m\u001b[0;34m,\u001b[0m \u001b[0mfigsize\u001b[0m\u001b[0;34m=\u001b[0m\u001b[0;34m(\u001b[0m\u001b[0;36m20\u001b[0m\u001b[0;34m,\u001b[0m \u001b[0;36m10\u001b[0m\u001b[0;34m)\u001b[0m\u001b[0;34m)\u001b[0m\u001b[0;34m\u001b[0m\u001b[0;34m\u001b[0m\u001b[0m\n\u001b[0m\u001b[1;32m      2\u001b[0m \u001b[0;34m\u001b[0m\u001b[0m\n\u001b[1;32m      3\u001b[0m \u001b[0mmulti_plots\u001b[0m\u001b[0;34m.\u001b[0m\u001b[0mset_xticklabels\u001b[0m\u001b[0;34m(\u001b[0m\u001b[0mstates_transposed\u001b[0m\u001b[0;34m[\u001b[0m\u001b[0;34m\"States COVID-19 Total Deaths\"\u001b[0m\u001b[0;34m]\u001b[0m\u001b[0;34m,\u001b[0m \u001b[0mrotation\u001b[0m\u001b[0;34m=\u001b[0m\u001b[0;36m45\u001b[0m\u001b[0;34m)\u001b[0m\u001b[0;34m\u001b[0m\u001b[0;34m\u001b[0m\u001b[0m\n\u001b[1;32m      4\u001b[0m \u001b[0;34m\u001b[0m\u001b[0m\n\u001b[1;32m      5\u001b[0m \u001b[0mplt\u001b[0m\u001b[0;34m.\u001b[0m\u001b[0mtitle\u001b[0m\u001b[0;34m(\u001b[0m\u001b[0;34m\"States COVID-19 Total Deaths\"\u001b[0m\u001b[0;34m,\u001b[0m \u001b[0mfontsize\u001b[0m\u001b[0;34m=\u001b[0m\u001b[0;36m20\u001b[0m\u001b[0;34m,\u001b[0m \u001b[0mpad\u001b[0m\u001b[0;34m=\u001b[0m\u001b[0;36m10\u001b[0m\u001b[0;34m)\u001b[0m\u001b[0;34m\u001b[0m\u001b[0;34m\u001b[0m\u001b[0m\n",
      "\u001b[0;31mNameError\u001b[0m: name 'states_transposed' is not defined"
     ]
    }
   ],
   "source": [
    "multi_plots = states_transposed.plot(kind=\"bar\", figsize=(20, 10))\n",
    "\n",
    "multi_plots.set_xticklabels(states_transposed[\"States COVID-19 Total Deaths\"], rotation=45)\n",
    "\n",
    "plt.title(\"States COVID-19 Total Deaths\", fontsize=20, pad=10)\n",
    "plt.xlabel(\"Age Groups\", fontsize=17)\n",
    "plt.ylabel(\"COVID-19 Deaths\", fontsize=17)\n",
    "\n",
    "plt.tight_layout()\n",
    "plt.savefig(\"/Users/azpunit/Desktop/Project-1/All Figures/States Multiple Bar Plots.png\")\n",
    "plt.show()"
   ]
  },
  {
   "cell_type": "code",
   "execution_count": 22,
   "metadata": {
    "tags": []
   },
   "outputs": [
    {
     "output_type": "error",
     "ename": "NameError",
     "evalue": "name 'raw_total_overall_report' is not defined",
     "traceback": [
      "\u001b[0;31m---------------------------------------------------------------------------\u001b[0m",
      "\u001b[0;31mNameError\u001b[0m                                 Traceback (most recent call last)",
      "\u001b[0;32m<ipython-input-22-1b9f909a396b>\u001b[0m in \u001b[0;36m<module>\u001b[0;34m\u001b[0m\n\u001b[1;32m      2\u001b[0m \u001b[0;34m\u001b[0m\u001b[0m\n\u001b[1;32m      3\u001b[0m \u001b[0mplt\u001b[0m\u001b[0;34m.\u001b[0m\u001b[0mfigure\u001b[0m\u001b[0;34m(\u001b[0m\u001b[0mfigsize\u001b[0m\u001b[0;34m=\u001b[0m\u001b[0;34m(\u001b[0m\u001b[0;36m10\u001b[0m\u001b[0;34m,\u001b[0m\u001b[0;36m8\u001b[0m\u001b[0;34m)\u001b[0m\u001b[0;34m)\u001b[0m\u001b[0;34m\u001b[0m\u001b[0;34m\u001b[0m\u001b[0m\n\u001b[0;32m----> 4\u001b[0;31m \u001b[0mplt\u001b[0m\u001b[0;34m.\u001b[0m\u001b[0mbar\u001b[0m\u001b[0;34m(\u001b[0m\u001b[0mtick_locations\u001b[0m\u001b[0;34m,\u001b[0m \u001b[0mraw_total_overall_report\u001b[0m\u001b[0;34m[\u001b[0m\u001b[0;34m\"Overall U.S. COVID-19 Total Deaths\"\u001b[0m\u001b[0;34m]\u001b[0m\u001b[0;34m,\u001b[0m \u001b[0malign\u001b[0m\u001b[0;34m=\u001b[0m\u001b[0;34m\"center\"\u001b[0m\u001b[0;34m,\u001b[0m \u001b[0mcolor\u001b[0m\u001b[0;34m=\u001b[0m\u001b[0;34m\"steelblue\"\u001b[0m\u001b[0;34m,\u001b[0m \u001b[0mwidth\u001b[0m\u001b[0;34m=\u001b[0m\u001b[0;36m0.5\u001b[0m\u001b[0;34m,\u001b[0m \u001b[0mlabel\u001b[0m\u001b[0;34m=\u001b[0m\u001b[0mtick_locations\u001b[0m\u001b[0;34m[\u001b[0m\u001b[0;36m0\u001b[0m\u001b[0;34m]\u001b[0m\u001b[0;34m)\u001b[0m\u001b[0;34m\u001b[0m\u001b[0;34m\u001b[0m\u001b[0m\n\u001b[0m\u001b[1;32m      5\u001b[0m \u001b[0mplt\u001b[0m\u001b[0;34m.\u001b[0m\u001b[0mbar\u001b[0m\u001b[0;34m(\u001b[0m\u001b[0mtick_locations\u001b[0m\u001b[0;34m,\u001b[0m \u001b[0mraw_total_overall_report\u001b[0m\u001b[0;34m[\u001b[0m\u001b[0;34m\"Overall U.S. COVID-19 Total Deaths\"\u001b[0m\u001b[0;34m]\u001b[0m\u001b[0;34m,\u001b[0m \u001b[0malign\u001b[0m\u001b[0;34m=\u001b[0m\u001b[0;34m\"center\"\u001b[0m\u001b[0;34m,\u001b[0m \u001b[0mcolor\u001b[0m\u001b[0;34m=\u001b[0m\u001b[0;34m\"orange\"\u001b[0m\u001b[0;34m,\u001b[0m \u001b[0mwidth\u001b[0m\u001b[0;34m=\u001b[0m\u001b[0;36m0.5\u001b[0m\u001b[0;34m,\u001b[0m \u001b[0mlabel\u001b[0m\u001b[0;34m=\u001b[0m\u001b[0mtick_locations\u001b[0m\u001b[0;34m[\u001b[0m\u001b[0;36m1\u001b[0m\u001b[0;34m]\u001b[0m\u001b[0;34m)\u001b[0m\u001b[0;34m\u001b[0m\u001b[0;34m\u001b[0m\u001b[0m\n\u001b[1;32m      6\u001b[0m \u001b[0mplt\u001b[0m\u001b[0;34m.\u001b[0m\u001b[0mbar\u001b[0m\u001b[0;34m(\u001b[0m\u001b[0mtick_locations\u001b[0m\u001b[0;34m,\u001b[0m \u001b[0mraw_total_overall_report\u001b[0m\u001b[0;34m[\u001b[0m\u001b[0;34m\"Overall U.S. COVID-19 Total Deaths\"\u001b[0m\u001b[0;34m]\u001b[0m\u001b[0;34m,\u001b[0m \u001b[0malign\u001b[0m\u001b[0;34m=\u001b[0m\u001b[0;34m\"center\"\u001b[0m\u001b[0;34m,\u001b[0m \u001b[0mcolor\u001b[0m\u001b[0;34m=\u001b[0m\u001b[0;34m\"green\"\u001b[0m\u001b[0;34m,\u001b[0m \u001b[0mwidth\u001b[0m\u001b[0;34m=\u001b[0m\u001b[0;36m0.5\u001b[0m\u001b[0;34m,\u001b[0m \u001b[0mlabel\u001b[0m\u001b[0;34m=\u001b[0m\u001b[0mtick_locations\u001b[0m\u001b[0;34m[\u001b[0m\u001b[0;36m2\u001b[0m\u001b[0;34m]\u001b[0m\u001b[0;34m)\u001b[0m\u001b[0;34m\u001b[0m\u001b[0;34m\u001b[0m\u001b[0m\n",
      "\u001b[0;31mNameError\u001b[0m: name 'raw_total_overall_report' is not defined"
     ]
    }
   ],
   "source": [
    "tick_locations = [\"Younger than 55\", \"Between 55 and 64\", \"65 and Older\"]\n",
    "\n",
    "plt.figure(figsize=(10,8))\n",
    "plt.bar(tick_locations, raw_total_overall_report[\"Overall U.S. COVID-19 Total Deaths\"], align=\"center\", color=\"steelblue\", width=0.5, label=tick_locations[0])\n",
    "plt.bar(tick_locations, raw_total_overall_report[\"Overall U.S. COVID-19 Total Deaths\"], align=\"center\", color=\"orange\", width=0.5, label=tick_locations[1])\n",
    "plt.bar(tick_locations, raw_total_overall_report[\"Overall U.S. COVID-19 Total Deaths\"], align=\"center\", color=\"green\", width=0.5, label=tick_locations[2])\n",
    "plt.bar(tick_locations, raw_total_overall_report[\"Overall U.S. COVID-19 Total Deaths\"], align=\"center\", color=[\"steelblue\", \"orange\", \"green\"], width=0.5)\n",
    "plt.xticks(tick_locations, rotation=\"horizontal\")\n",
    "\n",
    "plt.xlim(-0.5, len(tick_locations)-0.5)\n",
    "plt.ylim(0, max(raw_total_overall_report[\"Overall U.S. COVID-19 Total Deaths\"])+9000)\n",
    "\n",
    "plt.title(\"U.S. COVID-19 Total Deaths\", fontsize=20, pad=10)\n",
    "plt.xlabel(\"Age Groups\", labelpad=20)\n",
    "plt.ylabel(\"COVID-19 Deaths\")\n",
    "plt.legend(loc=\"upper left\")\n",
    "\n",
    "plt.savefig(\"/Users/azpunit/Desktop/Project-1/All Figures/United States Bar Plot.png\")\n",
    "plt.tight_layout()\n",
    "plt.show()"
   ]
  },
  {
   "cell_type": "code",
   "execution_count": 23,
   "metadata": {},
   "outputs": [
    {
     "output_type": "error",
     "ename": "NameError",
     "evalue": "name 'raw_total_overall_report' is not defined",
     "traceback": [
      "\u001b[0;31m---------------------------------------------------------------------------\u001b[0m",
      "\u001b[0;31mNameError\u001b[0m                                 Traceback (most recent call last)",
      "\u001b[0;32m<ipython-input-23-4a909f53eb11>\u001b[0m in \u001b[0;36m<module>\u001b[0;34m\u001b[0m\n\u001b[1;32m      3\u001b[0m \u001b[0;34m\u001b[0m\u001b[0m\n\u001b[1;32m      4\u001b[0m \u001b[0;31m# The values of each section of the pie chart\u001b[0m\u001b[0;34m\u001b[0m\u001b[0;34m\u001b[0m\u001b[0;34m\u001b[0m\u001b[0m\n\u001b[0;32m----> 5\u001b[0;31m \u001b[0mcalifornia_covid_deaths\u001b[0m \u001b[0;34m=\u001b[0m \u001b[0mlist\u001b[0m\u001b[0;34m(\u001b[0m\u001b[0mraw_total_overall_report\u001b[0m\u001b[0;34m[\u001b[0m\u001b[0;34m\"California COVID-19 Total Deaths\"\u001b[0m\u001b[0;34m]\u001b[0m\u001b[0;34m)\u001b[0m\u001b[0;34m\u001b[0m\u001b[0;34m\u001b[0m\u001b[0m\n\u001b[0m\u001b[1;32m      6\u001b[0m \u001b[0;34m\u001b[0m\u001b[0m\n\u001b[1;32m      7\u001b[0m \u001b[0;31m# The colors of each section of the pie chart\u001b[0m\u001b[0;34m\u001b[0m\u001b[0;34m\u001b[0m\u001b[0;34m\u001b[0m\u001b[0m\n",
      "\u001b[0;31mNameError\u001b[0m: name 'raw_total_overall_report' is not defined"
     ]
    }
   ],
   "source": [
    "# Labels for the sections of our pie chart\n",
    "labels = [\"Younger than 55\", \"Between 55 and 64\", \"Older than 65\"]\n",
    "\n",
    "# The values of each section of the pie chart\n",
    "california_covid_deaths = list(raw_total_overall_report[\"California COVID-19 Total Deaths\"])\n",
    "\n",
    "# The colors of each section of the pie chart\n",
    "colors = [\"steelblue\", \"orange\", \"green\"]\n",
    "\n",
    "# Tells matplotlib to seperate the \"Humans\" section from the others\n",
    "explode = (0, 0, 0.1)"
   ]
  },
  {
   "cell_type": "code",
   "execution_count": 24,
   "metadata": {},
   "outputs": [
    {
     "output_type": "error",
     "ename": "NameError",
     "evalue": "name 'raw_total_overall_report' is not defined",
     "traceback": [
      "\u001b[0;31m---------------------------------------------------------------------------\u001b[0m",
      "\u001b[0;31mNameError\u001b[0m                                 Traceback (most recent call last)",
      "\u001b[0;32m<ipython-input-24-48d184450b5b>\u001b[0m in \u001b[0;36m<module>\u001b[0;34m\u001b[0m\n\u001b[1;32m      2\u001b[0m \u001b[0;34m\u001b[0m\u001b[0m\n\u001b[1;32m      3\u001b[0m \u001b[0mplt\u001b[0m\u001b[0;34m.\u001b[0m\u001b[0mfigure\u001b[0m\u001b[0;34m(\u001b[0m\u001b[0mfigsize\u001b[0m\u001b[0;34m=\u001b[0m\u001b[0;34m(\u001b[0m\u001b[0;36m15\u001b[0m\u001b[0;34m,\u001b[0m \u001b[0;36m8\u001b[0m\u001b[0;34m)\u001b[0m\u001b[0;34m)\u001b[0m\u001b[0;34m\u001b[0m\u001b[0;34m\u001b[0m\u001b[0m\n\u001b[0;32m----> 4\u001b[0;31m \u001b[0mcalifornia_deaths\u001b[0m\u001b[0;34m,\u001b[0m \u001b[0;34m=\u001b[0m \u001b[0mplt\u001b[0m\u001b[0;34m.\u001b[0m\u001b[0mplot\u001b[0m\u001b[0;34m(\u001b[0m\u001b[0mlabels\u001b[0m\u001b[0;34m,\u001b[0m \u001b[0mraw_total_overall_report\u001b[0m\u001b[0;34m[\u001b[0m\u001b[0;34m\"California COVID-19 Total Deaths\"\u001b[0m\u001b[0;34m]\u001b[0m\u001b[0;34m,\u001b[0m \u001b[0mmarker\u001b[0m\u001b[0;34m=\u001b[0m\u001b[0;34m\"o\"\u001b[0m\u001b[0;34m,\u001b[0m\u001b[0mcolor\u001b[0m\u001b[0;34m=\u001b[0m\u001b[0;34m\"blue\"\u001b[0m\u001b[0;34m,\u001b[0m \u001b[0mlinewidth\u001b[0m\u001b[0;34m=\u001b[0m\u001b[0;36m1\u001b[0m\u001b[0;34m,\u001b[0m \u001b[0mlabel\u001b[0m\u001b[0;34m=\u001b[0m\u001b[0;34m\"California Deaths\"\u001b[0m\u001b[0;34m)\u001b[0m\u001b[0;34m\u001b[0m\u001b[0;34m\u001b[0m\u001b[0m\n\u001b[0m\u001b[1;32m      5\u001b[0m \u001b[0mconnecticut_deaths\u001b[0m\u001b[0;34m,\u001b[0m \u001b[0;34m=\u001b[0m \u001b[0mplt\u001b[0m\u001b[0;34m.\u001b[0m\u001b[0mplot\u001b[0m\u001b[0;34m(\u001b[0m\u001b[0mlabels\u001b[0m\u001b[0;34m,\u001b[0m \u001b[0mraw_total_overall_report\u001b[0m\u001b[0;34m[\u001b[0m\u001b[0;34m\"Connecticut COVID-19 Total Deaths\"\u001b[0m\u001b[0;34m]\u001b[0m\u001b[0;34m,\u001b[0m \u001b[0mmarker\u001b[0m\u001b[0;34m=\u001b[0m\u001b[0;34m\"o\"\u001b[0m\u001b[0;34m,\u001b[0m\u001b[0mcolor\u001b[0m\u001b[0;34m=\u001b[0m\u001b[0;34m\"red\"\u001b[0m\u001b[0;34m,\u001b[0m \u001b[0mlinewidth\u001b[0m\u001b[0;34m=\u001b[0m\u001b[0;36m1\u001b[0m\u001b[0;34m,\u001b[0m \u001b[0mlabel\u001b[0m\u001b[0;34m=\u001b[0m\u001b[0;34m\"Connecticut Deaths\"\u001b[0m\u001b[0;34m)\u001b[0m\u001b[0;34m\u001b[0m\u001b[0;34m\u001b[0m\u001b[0m\n\u001b[1;32m      6\u001b[0m \u001b[0mvirginia_deaths\u001b[0m\u001b[0;34m,\u001b[0m \u001b[0;34m=\u001b[0m \u001b[0mplt\u001b[0m\u001b[0;34m.\u001b[0m\u001b[0mplot\u001b[0m\u001b[0;34m(\u001b[0m\u001b[0mlabels\u001b[0m\u001b[0;34m,\u001b[0m \u001b[0mraw_total_overall_report\u001b[0m\u001b[0;34m[\u001b[0m\u001b[0;34m\"Virginia COVID-19 Total Deaths\"\u001b[0m\u001b[0;34m]\u001b[0m\u001b[0;34m,\u001b[0m \u001b[0mmarker\u001b[0m\u001b[0;34m=\u001b[0m\u001b[0;34m\"o\"\u001b[0m\u001b[0;34m,\u001b[0m\u001b[0mcolor\u001b[0m\u001b[0;34m=\u001b[0m\u001b[0;34m\"grey\"\u001b[0m\u001b[0;34m,\u001b[0m \u001b[0mlinewidth\u001b[0m\u001b[0;34m=\u001b[0m\u001b[0;36m1\u001b[0m\u001b[0;34m,\u001b[0m \u001b[0mlabel\u001b[0m\u001b[0;34m=\u001b[0m\u001b[0;34m\"Virginia Deaths\"\u001b[0m\u001b[0;34m)\u001b[0m\u001b[0;34m\u001b[0m\u001b[0;34m\u001b[0m\u001b[0m\n",
      "\u001b[0;31mNameError\u001b[0m: name 'raw_total_overall_report' is not defined"
     ]
    }
   ],
   "source": [
    "labels = [\"Younger than 55\", \"Between 55 and 64\", \"Older than 65\"]\n",
    "\n",
    "plt.figure(figsize=(15, 8))\n",
    "california_deaths, = plt.plot(labels, raw_total_overall_report[\"California COVID-19 Total Deaths\"], marker=\"o\",color=\"blue\", linewidth=1, label=\"California Deaths\")\n",
    "connecticut_deaths, = plt.plot(labels, raw_total_overall_report[\"Connecticut COVID-19 Total Deaths\"], marker=\"o\",color=\"red\", linewidth=1, label=\"Connecticut Deaths\")\n",
    "virginia_deaths, = plt.plot(labels, raw_total_overall_report[\"Virginia COVID-19 Total Deaths\"], marker=\"o\",color=\"grey\", linewidth=1, label=\"Virginia Deaths\")\n",
    "florida_deaths, = plt.plot(labels, raw_total_overall_report[\"Florida COVID-19 Total Deaths\"], marker=\"o\",color=\"steelblue\", linewidth=1, label=\"Florida Deaths\")\n",
    "georgia_deaths, = plt.plot(labels, raw_total_overall_report[\"Georgia COVID-19 Total Deaths\"], marker=\"o\",color=\"cyan\", linewidth=1, label=\"Georgia Deaths\")\n",
    "\n",
    "plt.xlim(-0.2, len(labels)-0.9)\n",
    "plt.ylim(0, max(raw_total_overall_report[\"California COVID-19 Total Deaths\"])+100)\n",
    "\n",
    "plt.title(\"States COVID-19 Total Deaths Evolution\", fontsize=20, pad=10)\n",
    "plt.xlabel(\"Age Groups\", labelpad=10)\n",
    "plt.ylabel(\"COVID-19 Deaths\")\n",
    "plt.legend(handles=[california_deaths, connecticut_deaths, virginia_deaths, florida_deaths, georgia_deaths], loc=\"upper left\")\n",
    "\n",
    "plt.savefig(\"/Users/azpunit/Desktop/Project-1/All Figures/States Multiple Line Plot.png\")\n",
    "plt.tight_layout()\n",
    "plt.show()"
   ]
  },
  {
   "cell_type": "code",
   "execution_count": 25,
   "metadata": {},
   "outputs": [
    {
     "output_type": "error",
     "ename": "NameError",
     "evalue": "name 'raw_total_overall_report' is not defined",
     "traceback": [
      "\u001b[0;31m---------------------------------------------------------------------------\u001b[0m",
      "\u001b[0;31mNameError\u001b[0m                                 Traceback (most recent call last)",
      "\u001b[0;32m<ipython-input-25-86fd1218c103>\u001b[0m in \u001b[0;36m<module>\u001b[0;34m\u001b[0m\n\u001b[1;32m      2\u001b[0m \u001b[0;34m\u001b[0m\u001b[0m\n\u001b[1;32m      3\u001b[0m \u001b[0mplt\u001b[0m\u001b[0;34m.\u001b[0m\u001b[0mfigure\u001b[0m\u001b[0;34m(\u001b[0m\u001b[0mfigsize\u001b[0m\u001b[0;34m=\u001b[0m\u001b[0;34m(\u001b[0m\u001b[0;36m15\u001b[0m\u001b[0;34m,\u001b[0m \u001b[0;36m8\u001b[0m\u001b[0;34m)\u001b[0m\u001b[0;34m)\u001b[0m\u001b[0;34m\u001b[0m\u001b[0;34m\u001b[0m\u001b[0m\n\u001b[0;32m----> 4\u001b[0;31m \u001b[0mplt\u001b[0m\u001b[0;34m.\u001b[0m\u001b[0mplot\u001b[0m\u001b[0;34m(\u001b[0m\u001b[0mlabels\u001b[0m\u001b[0;34m,\u001b[0m \u001b[0mraw_total_overall_report\u001b[0m\u001b[0;34m[\u001b[0m\u001b[0;34m\"Overall U.S. COVID-19 Total Deaths\"\u001b[0m\u001b[0;34m]\u001b[0m\u001b[0;34m,\u001b[0m \u001b[0mmarker\u001b[0m\u001b[0;34m=\u001b[0m\u001b[0;34m\"o\"\u001b[0m\u001b[0;34m,\u001b[0m\u001b[0mcolor\u001b[0m\u001b[0;34m=\u001b[0m\u001b[0;34m\"green\"\u001b[0m\u001b[0;34m,\u001b[0m \u001b[0mlinewidth\u001b[0m\u001b[0;34m=\u001b[0m\u001b[0;36m1\u001b[0m\u001b[0;34m,\u001b[0m \u001b[0mlabel\u001b[0m\u001b[0;34m=\u001b[0m\u001b[0;34m\"Overall U.S. Deaths\"\u001b[0m\u001b[0;34m)\u001b[0m\u001b[0;34m\u001b[0m\u001b[0;34m\u001b[0m\u001b[0m\n\u001b[0m\u001b[1;32m      5\u001b[0m \u001b[0;34m\u001b[0m\u001b[0m\n\u001b[1;32m      6\u001b[0m \u001b[0mplt\u001b[0m\u001b[0;34m.\u001b[0m\u001b[0mxlim\u001b[0m\u001b[0;34m(\u001b[0m\u001b[0;34m-\u001b[0m\u001b[0;36m0.2\u001b[0m\u001b[0;34m,\u001b[0m \u001b[0mlen\u001b[0m\u001b[0;34m(\u001b[0m\u001b[0mlabels\u001b[0m\u001b[0;34m)\u001b[0m\u001b[0;34m-\u001b[0m\u001b[0;36m0.9\u001b[0m\u001b[0;34m)\u001b[0m\u001b[0;34m\u001b[0m\u001b[0;34m\u001b[0m\u001b[0m\n",
      "\u001b[0;31mNameError\u001b[0m: name 'raw_total_overall_report' is not defined"
     ]
    }
   ],
   "source": [
    "labels = [\"Younger than 55\", \"Between 55 and 64\", \"Older than 65\"]\n",
    "\n",
    "plt.figure(figsize=(15, 8))\n",
    "plt.plot(labels, raw_total_overall_report[\"Overall U.S. COVID-19 Total Deaths\"], marker=\"o\",color=\"green\", linewidth=1, label=\"Overall U.S. Deaths\")\n",
    "\n",
    "plt.xlim(-0.2, len(labels)-0.9)\n",
    "plt.ylim(0, max(raw_total_overall_report[\"Overall U.S. COVID-19 Total Deaths\"])+12000)\n",
    "\n",
    "plt.title(\"Overall U.S. COVID-19 Deaths Evolution\", fontsize=20, pad=10)\n",
    "plt.xlabel(\"Age Groups\", labelpad=10)\n",
    "plt.ylabel(\"COVID-19 Deaths\")\n",
    "plt.legend(loc=\"upper left\")\n",
    "\n",
    "plt.savefig(\"/Users/azpunit/Desktop/Project-1/All Figures/United States Line Plots.png\")\n",
    "plt.tight_layout()\n",
    "plt.show()"
   ]
  },
  {
   "cell_type": "code",
   "execution_count": 26,
   "metadata": {},
   "outputs": [
    {
     "output_type": "error",
     "ename": "NameError",
     "evalue": "name 'raw_total_overall_report' is not defined",
     "traceback": [
      "\u001b[0;31m---------------------------------------------------------------------------\u001b[0m",
      "\u001b[0;31mNameError\u001b[0m                                 Traceback (most recent call last)",
      "\u001b[0;32m<ipython-input-26-415868ee0f88>\u001b[0m in \u001b[0;36m<module>\u001b[0;34m\u001b[0m\n\u001b[1;32m      1\u001b[0m \u001b[0mlabels\u001b[0m \u001b[0;34m=\u001b[0m \u001b[0;34m[\u001b[0m\u001b[0;34m\"Younger than 55\"\u001b[0m\u001b[0;34m,\u001b[0m \u001b[0;34m\"Between 55 and 64\"\u001b[0m\u001b[0;34m,\u001b[0m \u001b[0;34m\"Older than 65\"\u001b[0m\u001b[0;34m]\u001b[0m\u001b[0;34m\u001b[0m\u001b[0;34m\u001b[0m\u001b[0m\n\u001b[1;32m      2\u001b[0m \u001b[0;34m\u001b[0m\u001b[0m\n\u001b[0;32m----> 3\u001b[0;31m \u001b[0mcalifornia_deaths\u001b[0m \u001b[0;34m=\u001b[0m \u001b[0mnp\u001b[0m\u001b[0;34m.\u001b[0m\u001b[0marray\u001b[0m\u001b[0;34m(\u001b[0m\u001b[0mlist\u001b[0m\u001b[0;34m(\u001b[0m\u001b[0mraw_total_overall_report\u001b[0m\u001b[0;34m[\u001b[0m\u001b[0;34m\"California COVID-19 Total Deaths\"\u001b[0m\u001b[0;34m]\u001b[0m\u001b[0;34m)\u001b[0m\u001b[0;34m)\u001b[0m\u001b[0;34m\u001b[0m\u001b[0;34m\u001b[0m\u001b[0m\n\u001b[0m\u001b[1;32m      4\u001b[0m \u001b[0mconnecticut_deaths\u001b[0m \u001b[0;34m=\u001b[0m \u001b[0mnp\u001b[0m\u001b[0;34m.\u001b[0m\u001b[0marray\u001b[0m\u001b[0;34m(\u001b[0m\u001b[0mlist\u001b[0m\u001b[0;34m(\u001b[0m\u001b[0mraw_total_overall_report\u001b[0m\u001b[0;34m[\u001b[0m\u001b[0;34m\"Connecticut COVID-19 Total Deaths\"\u001b[0m\u001b[0;34m]\u001b[0m\u001b[0;34m)\u001b[0m\u001b[0;34m)\u001b[0m\u001b[0;34m\u001b[0m\u001b[0;34m\u001b[0m\u001b[0m\n\u001b[1;32m      5\u001b[0m \u001b[0mvirginia_deaths\u001b[0m \u001b[0;34m=\u001b[0m \u001b[0mnp\u001b[0m\u001b[0;34m.\u001b[0m\u001b[0marray\u001b[0m\u001b[0;34m(\u001b[0m\u001b[0mlist\u001b[0m\u001b[0;34m(\u001b[0m\u001b[0mraw_total_overall_report\u001b[0m\u001b[0;34m[\u001b[0m\u001b[0;34m\"Virginia COVID-19 Total Deaths\"\u001b[0m\u001b[0;34m]\u001b[0m\u001b[0;34m)\u001b[0m\u001b[0;34m)\u001b[0m\u001b[0;34m\u001b[0m\u001b[0;34m\u001b[0m\u001b[0m\n",
      "\u001b[0;31mNameError\u001b[0m: name 'raw_total_overall_report' is not defined"
     ]
    }
   ],
   "source": [
    "labels = [\"Younger than 55\", \"Between 55 and 64\", \"Older than 65\"]\n",
    "\n",
    "california_deaths = np.array(list(raw_total_overall_report[\"California COVID-19 Total Deaths\"]))\n",
    "connecticut_deaths = np.array(list(raw_total_overall_report[\"Connecticut COVID-19 Total Deaths\"]))\n",
    "virginia_deaths = np.array(list(raw_total_overall_report[\"Virginia COVID-19 Total Deaths\"]))\n",
    "florida_deaths = np.array(list(raw_total_overall_report[\"Florida COVID-19 Total Deaths\"]))\n",
    "georgia_deaths = np.array(list(raw_total_overall_report[\"Georgia COVID-19 Total Deaths\"]))\n",
    "ticker_location = [label for label in labels]\n",
    "\n",
    "plt.figure(figsize=(15, 10))\n",
    "plt.bar(ticker_location, california_deaths, width=0.6, label='california deaths', color=\"blue\", bottom=connecticut_deaths+virginia_deaths+florida_deaths+georgia_deaths)\n",
    "plt.bar(ticker_location, connecticut_deaths, width=0.6, label='connecticut deaths', color=\"red\", bottom=virginia_deaths+florida_deaths+georgia_deaths)\n",
    "plt.bar(ticker_location, virginia_deaths, width=0.6, label='virginia deaths', color=\"grey\", bottom=florida_deaths+georgia_deaths)\n",
    "plt.bar(ticker_location, florida_deaths, width=0.6, label='florida deaths', color=\"steelblue\", bottom=georgia_deaths)\n",
    "plt.bar(ticker_location, georgia_deaths, width=0.6, label='georgia deaths', color=\"cyan\")\n",
    "\n",
    "plt.title(\"Overall U.S. COVID-19 Deaths\", fontsize=20, pad=10)\n",
    "plt.xlabel(\"Age Groups\", labelpad=10)\n",
    "plt.ylabel(\"COVID-19 Deaths\")\n",
    "plt.legend(loc=\"upper left\")\n",
    "\n",
    "plt.savefig(\"/Users/azpunit/Desktop/Project-1/All Figures/States Stacked Bar Plots.png\")\n",
    "plt.tight_layout()\n",
    "plt.show()"
   ]
  },
  {
   "cell_type": "code",
   "execution_count": 27,
   "metadata": {},
   "outputs": [
    {
     "output_type": "error",
     "ename": "NameError",
     "evalue": "name 'raw_total_overall_report' is not defined",
     "traceback": [
      "\u001b[0;31m---------------------------------------------------------------------------\u001b[0m",
      "\u001b[0;31mNameError\u001b[0m                                 Traceback (most recent call last)",
      "\u001b[0;32m<ipython-input-27-90c76e7cc1a2>\u001b[0m in \u001b[0;36m<module>\u001b[0;34m\u001b[0m\n\u001b[1;32m      3\u001b[0m \u001b[0;34m\u001b[0m\u001b[0m\n\u001b[1;32m      4\u001b[0m \u001b[0;31m# The values of each section of the pie chart\u001b[0m\u001b[0;34m\u001b[0m\u001b[0;34m\u001b[0m\u001b[0;34m\u001b[0m\u001b[0m\n\u001b[0;32m----> 5\u001b[0;31m \u001b[0mcalifornia_covid_deaths\u001b[0m \u001b[0;34m=\u001b[0m \u001b[0mlist\u001b[0m\u001b[0;34m(\u001b[0m\u001b[0mraw_total_overall_report\u001b[0m\u001b[0;34m[\u001b[0m\u001b[0;34m\"California COVID-19 Total Deaths\"\u001b[0m\u001b[0;34m]\u001b[0m\u001b[0;34m)\u001b[0m\u001b[0;34m\u001b[0m\u001b[0;34m\u001b[0m\u001b[0m\n\u001b[0m\u001b[1;32m      6\u001b[0m \u001b[0mconnecticut_covid_deaths\u001b[0m \u001b[0;34m=\u001b[0m \u001b[0mlist\u001b[0m\u001b[0;34m(\u001b[0m\u001b[0mraw_total_overall_report\u001b[0m\u001b[0;34m[\u001b[0m\u001b[0;34m\"Connecticut COVID-19 Total Deaths\"\u001b[0m\u001b[0;34m]\u001b[0m\u001b[0;34m)\u001b[0m\u001b[0;34m\u001b[0m\u001b[0;34m\u001b[0m\u001b[0m\n\u001b[1;32m      7\u001b[0m \u001b[0mvirginia_covid_deaths\u001b[0m \u001b[0;34m=\u001b[0m \u001b[0mlist\u001b[0m\u001b[0;34m(\u001b[0m\u001b[0mraw_total_overall_report\u001b[0m\u001b[0;34m[\u001b[0m\u001b[0;34m\"Virginia COVID-19 Total Deaths\"\u001b[0m\u001b[0;34m]\u001b[0m\u001b[0;34m)\u001b[0m\u001b[0;34m\u001b[0m\u001b[0;34m\u001b[0m\u001b[0m\n",
      "\u001b[0;31mNameError\u001b[0m: name 'raw_total_overall_report' is not defined"
     ]
    }
   ],
   "source": [
    "# Labels for the sections of our pie chart\n",
    "labels = [\"Younger than 55\", \"Between 55 and 64\", \"Older than 65\"]\n",
    "\n",
    "# The values of each section of the pie chart\n",
    "california_covid_deaths = list(raw_total_overall_report[\"California COVID-19 Total Deaths\"])\n",
    "connecticut_covid_deaths = list(raw_total_overall_report[\"Connecticut COVID-19 Total Deaths\"])\n",
    "virginia_covid_deaths = list(raw_total_overall_report[\"Virginia COVID-19 Total Deaths\"])\n",
    "florida_covid_deaths = list(raw_total_overall_report[\"Florida COVID-19 Total Deaths\"])\n",
    "georgia_covid_deaths = list(raw_total_overall_report[\"Georgia COVID-19 Total Deaths\"])\n",
    "US_covid_deaths = list(raw_total_overall_report[\"Overall U.S. COVID-19 Total Deaths\"])\n",
    "\n",
    "# The colors of each section of the pie chart\n",
    "colors = [\"steelblue\", \"orange\", \"green\"]\n",
    "\n",
    "# Tells matplotlib to seperate the \"Humans\" section from the others\n",
    "explode = (0, 0, 0.1)"
   ]
  },
  {
   "cell_type": "code",
   "execution_count": 28,
   "metadata": {},
   "outputs": [
    {
     "output_type": "error",
     "ename": "NameError",
     "evalue": "name 'california_covid_deaths' is not defined",
     "traceback": [
      "\u001b[0;31m---------------------------------------------------------------------------\u001b[0m",
      "\u001b[0;31mNameError\u001b[0m                                 Traceback (most recent call last)",
      "\u001b[0;32m<ipython-input-28-5c0bb375b8e1>\u001b[0m in \u001b[0;36m<module>\u001b[0;34m\u001b[0m\n\u001b[1;32m      1\u001b[0m \u001b[0mplt\u001b[0m\u001b[0;34m.\u001b[0m\u001b[0mfigure\u001b[0m\u001b[0;34m(\u001b[0m\u001b[0mfigsize\u001b[0m\u001b[0;34m=\u001b[0m\u001b[0;34m(\u001b[0m\u001b[0;36m8\u001b[0m\u001b[0;34m,\u001b[0m \u001b[0;36m8\u001b[0m\u001b[0;34m)\u001b[0m\u001b[0;34m)\u001b[0m\u001b[0;34m\u001b[0m\u001b[0;34m\u001b[0m\u001b[0m\n\u001b[1;32m      2\u001b[0m \u001b[0mplt\u001b[0m\u001b[0;34m.\u001b[0m\u001b[0mrcParams\u001b[0m\u001b[0;34m[\u001b[0m\u001b[0;34m'font.size'\u001b[0m\u001b[0;34m]\u001b[0m \u001b[0;34m=\u001b[0m \u001b[0;36m15\u001b[0m\u001b[0;34m\u001b[0m\u001b[0;34m\u001b[0m\u001b[0m\n\u001b[0;32m----> 3\u001b[0;31m plt.pie(california_covid_deaths, explode=explode, labels=labels, colors=colors,\n\u001b[0m\u001b[1;32m      4\u001b[0m         autopct=\"%1.2f%%\", shadow=True, startangle=140)\n\u001b[1;32m      5\u001b[0m \u001b[0;34m\u001b[0m\u001b[0m\n",
      "\u001b[0;31mNameError\u001b[0m: name 'california_covid_deaths' is not defined"
     ]
    }
   ],
   "source": [
    "plt.figure(figsize=(8, 8))\n",
    "plt.rcParams['font.size'] = 15\n",
    "plt.pie(california_covid_deaths, explode=explode, labels=labels, colors=colors,\n",
    "        autopct=\"%1.2f%%\", shadow=True, startangle=140)\n",
    "\n",
    "plt.title(\"California COVID-19 Deaths\", pad=1, fontsize=20)\n",
    "plt.axis(\"equal\")\n",
    "plt.tight_layout()\n",
    "plt.savefig(\"/Users/azpunit/Desktop/Project-1/All Figures/California Pie Chart.png\")\n",
    "plt.show()"
   ]
  },
  {
   "cell_type": "code",
   "execution_count": 29,
   "metadata": {},
   "outputs": [
    {
     "output_type": "error",
     "ename": "NameError",
     "evalue": "name 'connecticut_covid_deaths' is not defined",
     "traceback": [
      "\u001b[0;31m---------------------------------------------------------------------------\u001b[0m",
      "\u001b[0;31mNameError\u001b[0m                                 Traceback (most recent call last)",
      "\u001b[0;32m<ipython-input-29-88278a8a9d99>\u001b[0m in \u001b[0;36m<module>\u001b[0;34m\u001b[0m\n\u001b[1;32m      1\u001b[0m \u001b[0mplt\u001b[0m\u001b[0;34m.\u001b[0m\u001b[0mfigure\u001b[0m\u001b[0;34m(\u001b[0m\u001b[0mfigsize\u001b[0m\u001b[0;34m=\u001b[0m\u001b[0;34m(\u001b[0m\u001b[0;36m8\u001b[0m\u001b[0;34m,\u001b[0m \u001b[0;36m8\u001b[0m\u001b[0;34m)\u001b[0m\u001b[0;34m)\u001b[0m\u001b[0;34m\u001b[0m\u001b[0;34m\u001b[0m\u001b[0m\n\u001b[1;32m      2\u001b[0m \u001b[0mplt\u001b[0m\u001b[0;34m.\u001b[0m\u001b[0mrcParams\u001b[0m\u001b[0;34m[\u001b[0m\u001b[0;34m'font.size'\u001b[0m\u001b[0;34m]\u001b[0m \u001b[0;34m=\u001b[0m \u001b[0;36m15\u001b[0m\u001b[0;34m\u001b[0m\u001b[0;34m\u001b[0m\u001b[0m\n\u001b[0;32m----> 3\u001b[0;31m plt.pie(connecticut_covid_deaths, explode=explode, labels=labels, colors=colors,\n\u001b[0m\u001b[1;32m      4\u001b[0m         autopct=\"%1.2f%%\", shadow=True, startangle=160)\n\u001b[1;32m      5\u001b[0m \u001b[0;34m\u001b[0m\u001b[0m\n",
      "\u001b[0;31mNameError\u001b[0m: name 'connecticut_covid_deaths' is not defined"
     ]
    }
   ],
   "source": [
    "plt.figure(figsize=(8, 8))\n",
    "plt.rcParams['font.size'] = 15\n",
    "plt.pie(connecticut_covid_deaths, explode=explode, labels=labels, colors=colors,\n",
    "        autopct=\"%1.2f%%\", shadow=True, startangle=160)\n",
    "\n",
    "plt.title(\"Connecticut COVID-19 Deaths\", pad=1, fontsize=20)\n",
    "plt.axis(\"equal\")\n",
    "plt.tight_layout()\n",
    "plt.savefig(\"/Users/azpunit/Desktop/Project-1/All Figures/Connecticut Pie Chart.png\")\n",
    "plt.show()"
   ]
  },
  {
   "cell_type": "code",
   "execution_count": 30,
   "metadata": {},
   "outputs": [
    {
     "output_type": "error",
     "ename": "NameError",
     "evalue": "name 'virginia_covid_deaths' is not defined",
     "traceback": [
      "\u001b[0;31m---------------------------------------------------------------------------\u001b[0m",
      "\u001b[0;31mNameError\u001b[0m                                 Traceback (most recent call last)",
      "\u001b[0;32m<ipython-input-30-ef410420a6bd>\u001b[0m in \u001b[0;36m<module>\u001b[0;34m\u001b[0m\n\u001b[1;32m      1\u001b[0m \u001b[0mplt\u001b[0m\u001b[0;34m.\u001b[0m\u001b[0mfigure\u001b[0m\u001b[0;34m(\u001b[0m\u001b[0mfigsize\u001b[0m\u001b[0;34m=\u001b[0m\u001b[0;34m(\u001b[0m\u001b[0;36m8\u001b[0m\u001b[0;34m,\u001b[0m \u001b[0;36m8\u001b[0m\u001b[0;34m)\u001b[0m\u001b[0;34m)\u001b[0m\u001b[0;34m\u001b[0m\u001b[0;34m\u001b[0m\u001b[0m\n\u001b[1;32m      2\u001b[0m \u001b[0mplt\u001b[0m\u001b[0;34m.\u001b[0m\u001b[0mrcParams\u001b[0m\u001b[0;34m[\u001b[0m\u001b[0;34m'font.size'\u001b[0m\u001b[0;34m]\u001b[0m \u001b[0;34m=\u001b[0m \u001b[0;36m15\u001b[0m\u001b[0;34m\u001b[0m\u001b[0;34m\u001b[0m\u001b[0m\n\u001b[0;32m----> 3\u001b[0;31m plt.pie(virginia_covid_deaths, explode=explode, labels=labels, colors=colors,\n\u001b[0m\u001b[1;32m      4\u001b[0m         autopct=\"%1.2f%%\", shadow=True, startangle=150)\n\u001b[1;32m      5\u001b[0m \u001b[0;34m\u001b[0m\u001b[0m\n",
      "\u001b[0;31mNameError\u001b[0m: name 'virginia_covid_deaths' is not defined"
     ]
    }
   ],
   "source": [
    "plt.figure(figsize=(8, 8))\n",
    "plt.rcParams['font.size'] = 15\n",
    "plt.pie(virginia_covid_deaths, explode=explode, labels=labels, colors=colors,\n",
    "        autopct=\"%1.2f%%\", shadow=True, startangle=150)\n",
    "\n",
    "plt.title(\"Virginia COVID-19 Deaths\", pad=10, fontsize=20)\n",
    "plt.axis(\"equal\")\n",
    "plt.tight_layout()\n",
    "plt.savefig(\"/Users/azpunit/Desktop/Project-1/All Figures/Virginia Pie Chart.png\")\n",
    "plt.show()"
   ]
  },
  {
   "cell_type": "code",
   "execution_count": 31,
   "metadata": {},
   "outputs": [
    {
     "output_type": "error",
     "ename": "NameError",
     "evalue": "name 'florida_covid_deaths' is not defined",
     "traceback": [
      "\u001b[0;31m---------------------------------------------------------------------------\u001b[0m",
      "\u001b[0;31mNameError\u001b[0m                                 Traceback (most recent call last)",
      "\u001b[0;32m<ipython-input-31-c082918209b9>\u001b[0m in \u001b[0;36m<module>\u001b[0;34m\u001b[0m\n\u001b[1;32m      1\u001b[0m \u001b[0mplt\u001b[0m\u001b[0;34m.\u001b[0m\u001b[0mfigure\u001b[0m\u001b[0;34m(\u001b[0m\u001b[0mfigsize\u001b[0m\u001b[0;34m=\u001b[0m\u001b[0;34m(\u001b[0m\u001b[0;36m8\u001b[0m\u001b[0;34m,\u001b[0m \u001b[0;36m8\u001b[0m\u001b[0;34m)\u001b[0m\u001b[0;34m)\u001b[0m\u001b[0;34m\u001b[0m\u001b[0;34m\u001b[0m\u001b[0m\n\u001b[1;32m      2\u001b[0m \u001b[0mplt\u001b[0m\u001b[0;34m.\u001b[0m\u001b[0mrcParams\u001b[0m\u001b[0;34m[\u001b[0m\u001b[0;34m'font.size'\u001b[0m\u001b[0;34m]\u001b[0m \u001b[0;34m=\u001b[0m \u001b[0;36m15\u001b[0m\u001b[0;34m\u001b[0m\u001b[0;34m\u001b[0m\u001b[0m\n\u001b[0;32m----> 3\u001b[0;31m plt.pie(florida_covid_deaths, explode=explode, labels=labels, colors=colors,\n\u001b[0m\u001b[1;32m      4\u001b[0m         autopct=\"%1.2f%%\", shadow=True, startangle=150)\n\u001b[1;32m      5\u001b[0m \u001b[0;34m\u001b[0m\u001b[0m\n",
      "\u001b[0;31mNameError\u001b[0m: name 'florida_covid_deaths' is not defined"
     ]
    }
   ],
   "source": [
    "plt.figure(figsize=(8, 8))\n",
    "plt.rcParams['font.size'] = 15\n",
    "plt.pie(florida_covid_deaths, explode=explode, labels=labels, colors=colors,\n",
    "        autopct=\"%1.2f%%\", shadow=True, startangle=150)\n",
    "\n",
    "plt.title(\"Florida COVID-19 Deaths\", pad=10, fontsize=20)\n",
    "plt.axis(\"equal\")\n",
    "plt.tight_layout()\n",
    "plt.savefig(\"/Users/azpunit/Desktop/Project-1/All Figures/Florida Pie Chart.png\")\n",
    "plt.show()"
   ]
  },
  {
   "cell_type": "code",
   "execution_count": 32,
   "metadata": {},
   "outputs": [
    {
     "output_type": "error",
     "ename": "NameError",
     "evalue": "name 'georgia_covid_deaths' is not defined",
     "traceback": [
      "\u001b[0;31m---------------------------------------------------------------------------\u001b[0m",
      "\u001b[0;31mNameError\u001b[0m                                 Traceback (most recent call last)",
      "\u001b[0;32m<ipython-input-32-5f94065e6530>\u001b[0m in \u001b[0;36m<module>\u001b[0;34m\u001b[0m\n\u001b[1;32m      1\u001b[0m \u001b[0mplt\u001b[0m\u001b[0;34m.\u001b[0m\u001b[0mfigure\u001b[0m\u001b[0;34m(\u001b[0m\u001b[0mfigsize\u001b[0m\u001b[0;34m=\u001b[0m\u001b[0;34m(\u001b[0m\u001b[0;36m8\u001b[0m\u001b[0;34m,\u001b[0m \u001b[0;36m8\u001b[0m\u001b[0;34m)\u001b[0m\u001b[0;34m)\u001b[0m\u001b[0;34m\u001b[0m\u001b[0;34m\u001b[0m\u001b[0m\n\u001b[1;32m      2\u001b[0m \u001b[0mplt\u001b[0m\u001b[0;34m.\u001b[0m\u001b[0mrcParams\u001b[0m\u001b[0;34m[\u001b[0m\u001b[0;34m'font.size'\u001b[0m\u001b[0;34m]\u001b[0m \u001b[0;34m=\u001b[0m \u001b[0;36m15\u001b[0m\u001b[0;34m\u001b[0m\u001b[0;34m\u001b[0m\u001b[0m\n\u001b[0;32m----> 3\u001b[0;31m plt.pie(georgia_covid_deaths, explode=explode, labels=labels, colors=colors,\n\u001b[0m\u001b[1;32m      4\u001b[0m         autopct=\"%1.2f%%\", shadow=True, startangle=140)\n\u001b[1;32m      5\u001b[0m \u001b[0;34m\u001b[0m\u001b[0m\n",
      "\u001b[0;31mNameError\u001b[0m: name 'georgia_covid_deaths' is not defined"
     ]
    }
   ],
   "source": [
    "plt.figure(figsize=(8, 8))\n",
    "plt.rcParams['font.size'] = 15\n",
    "plt.pie(georgia_covid_deaths, explode=explode, labels=labels, colors=colors,\n",
    "        autopct=\"%1.2f%%\", shadow=True, startangle=140)\n",
    "\n",
    "plt.title(\"Georgia COVID-19 Deaths\", pad=10, fontsize=20)\n",
    "plt.axis(\"equal\")\n",
    "plt.tight_layout()\n",
    "plt.savefig(\"/Users/azpunit/Desktop/Project-1/All Figures/Georgia Pie Chart.png\")\n",
    "plt.show()"
   ]
  },
  {
   "cell_type": "code",
   "execution_count": 33,
   "metadata": {},
   "outputs": [
    {
     "output_type": "error",
     "ename": "NameError",
     "evalue": "name 'US_covid_deaths' is not defined",
     "traceback": [
      "\u001b[0;31m---------------------------------------------------------------------------\u001b[0m",
      "\u001b[0;31mNameError\u001b[0m                                 Traceback (most recent call last)",
      "\u001b[0;32m<ipython-input-33-157bbc9f5198>\u001b[0m in \u001b[0;36m<module>\u001b[0;34m\u001b[0m\n\u001b[1;32m      1\u001b[0m \u001b[0mplt\u001b[0m\u001b[0;34m.\u001b[0m\u001b[0mfigure\u001b[0m\u001b[0;34m(\u001b[0m\u001b[0mfigsize\u001b[0m\u001b[0;34m=\u001b[0m\u001b[0;34m(\u001b[0m\u001b[0;36m8\u001b[0m\u001b[0;34m,\u001b[0m \u001b[0;36m8\u001b[0m\u001b[0;34m)\u001b[0m\u001b[0;34m)\u001b[0m\u001b[0;34m\u001b[0m\u001b[0;34m\u001b[0m\u001b[0m\n\u001b[1;32m      2\u001b[0m \u001b[0mplt\u001b[0m\u001b[0;34m.\u001b[0m\u001b[0mrcParams\u001b[0m\u001b[0;34m[\u001b[0m\u001b[0;34m'font.size'\u001b[0m\u001b[0;34m]\u001b[0m \u001b[0;34m=\u001b[0m \u001b[0;36m15\u001b[0m\u001b[0;34m\u001b[0m\u001b[0;34m\u001b[0m\u001b[0m\n\u001b[0;32m----> 3\u001b[0;31m plt.pie(US_covid_deaths, explode=explode, labels=labels, colors=colors,\n\u001b[0m\u001b[1;32m      4\u001b[0m         autopct=\"%1.2f%%\", shadow=True, startangle=140)\n\u001b[1;32m      5\u001b[0m \u001b[0;34m\u001b[0m\u001b[0m\n",
      "\u001b[0;31mNameError\u001b[0m: name 'US_covid_deaths' is not defined"
     ]
    }
   ],
   "source": [
    "plt.figure(figsize=(8, 8))\n",
    "plt.rcParams['font.size'] = 15\n",
    "plt.pie(US_covid_deaths, explode=explode, labels=labels, colors=colors,\n",
    "        autopct=\"%1.2f%%\", shadow=True, startangle=140)\n",
    "\n",
    "plt.title(\"Overall U.S. COVID-19 Deaths\", pad=10, fontsize=20)\n",
    "plt.axis(\"equal\")\n",
    "plt.tight_layout()\n",
    "plt.savefig(\"/Users/azpunit/Desktop/Project-1/All Figures/US Pie Chart.png\")\n",
    "plt.show()"
   ]
  },
  {
   "cell_type": "code",
   "execution_count": null,
   "metadata": {},
   "outputs": [],
   "source": []
  }
 ],
 "metadata": {
  "kernelspec": {
   "display_name": "Python 3",
   "language": "python",
   "name": "python3"
  },
  "language_info": {
   "codemirror_mode": {
    "name": "ipython",
    "version": 3
   },
   "file_extension": ".py",
   "mimetype": "text/x-python",
   "name": "python",
   "nbconvert_exporter": "python",
   "pygments_lexer": "ipython3",
   "version": "3.8.3"
  }
 },
 "nbformat": 4,
 "nbformat_minor": 4
}